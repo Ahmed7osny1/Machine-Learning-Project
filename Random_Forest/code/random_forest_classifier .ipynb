{
 "cells": [
  {
   "cell_type": "code",
   "execution_count": 1,
   "id": "cc45af1e",
   "metadata": {},
   "outputs": [
    {
     "name": "stdout",
     "output_type": "stream",
     "text": [
      "<class 'pandas.core.frame.DataFrame'>\n",
      "RangeIndex: 4024 entries, 0 to 4023\n",
      "Data columns (total 15 columns):\n",
      " #   Column                  Non-Null Count  Dtype \n",
      "---  ------                  --------------  ----- \n",
      " 0   Age                     4024 non-null   int64 \n",
      " 1   Race                    4024 non-null   object\n",
      " 2   Marital Status          4024 non-null   object\n",
      " 3   T Stage                 4024 non-null   object\n",
      " 4   N Stage                 4024 non-null   object\n",
      " 5   6th Stage               4024 non-null   object\n",
      " 6   Grade                   4024 non-null   object\n",
      " 7   A Stage                 4024 non-null   object\n",
      " 8   Tumor Size              4024 non-null   int64 \n",
      " 9   Estrogen Status         4024 non-null   object\n",
      " 10  Progesterone Status     4024 non-null   object\n",
      " 11  Regional Node Examined  4024 non-null   int64 \n",
      " 12  Reginol Node Positive   4024 non-null   int64 \n",
      " 13  Survival Months         4024 non-null   int64 \n",
      " 14  Status                  4024 non-null   object\n",
      "dtypes: int64(5), object(10)\n",
      "memory usage: 471.7+ KB\n",
      "column name: 'Race'\n",
      " number of values: 3'\n",
      " The values are ['Other (American Indian/AK Native, Asian/Pacific Islander)' 'White'\n",
      " 'Black']\n",
      "----------------------------------\n",
      "column name: 'Marital Status'\n",
      " number of values: 5'\n",
      " The values are ['Married (including common law)' 'Divorced' 'Single (never married)'\n",
      " 'Widowed' 'Separated']\n",
      "----------------------------------\n",
      "column name: 'T Stage'\n",
      " number of values: 4'\n",
      " The values are ['T2' 'T1' 'T3' 'T4']\n",
      "----------------------------------\n",
      "column name: 'N Stage'\n",
      " number of values: 3'\n",
      " The values are ['N3' 'N2' 'N1']\n",
      "----------------------------------\n",
      "column name: '6th Stage'\n",
      " number of values: 5'\n",
      " The values are ['IIIC' 'IIIA' 'IIB' 'IIA' 'IIIB']\n",
      "----------------------------------\n",
      "column name: 'Grade'\n",
      " number of values: 4'\n",
      " The values are ['Moderately differentiated; Grade II' 'Poorly differentiated; Grade III'\n",
      " 'Well differentiated; Grade I' 'Undifferentiated; anaplastic; Grade IV']\n",
      "----------------------------------\n",
      "column name: 'A Stage'\n",
      " number of values: 2'\n",
      " The values are ['Regional' 'Distant']\n",
      "----------------------------------\n",
      "column name: 'Estrogen Status'\n",
      " number of values: 2'\n",
      " The values are ['Positive' 'Negative']\n",
      "----------------------------------\n",
      "column name: 'Progesterone Status'\n",
      " number of values: 2'\n",
      " The values are ['Positive' 'Negative']\n",
      "----------------------------------\n",
      "column name: 'Status'\n",
      " number of values: 2'\n",
      " The values are ['Alive' 'Dead']\n",
      "----------------------------------\n",
      "X_train: (1971, 20)\n",
      "y_train: (1971,)\n",
      "-------------------------\n",
      "X_val: (845, 20)\n",
      "y_val: (845,)\n",
      "-------------------------\n",
      "X_test: (1208, 20)\n",
      "y_test: (1208,)\n"
     ]
    }
   ],
   "source": [
    "from preprocessing import * # importing preprocessing file to deal with processed data "
   ]
  },
  {
   "cell_type": "code",
   "execution_count": 370,
   "id": "f660482f",
   "metadata": {},
   "outputs": [],
   "source": [
    "from sklearn.metrics import accuracy_score\n",
    "from sklearn.ensemble import RandomForestClassifier\n",
    "from sklearn.model_selection import GridSearchCV\n",
    "from sklearn.metrics import classification_report\n",
    "import numpy as np\n",
    "import matplotlib.pyplot as plt\n",
    "import seaborn as sns"
   ]
  },
  {
   "cell_type": "markdown",
   "id": "7d1d9fd3",
   "metadata": {},
   "source": [
    "# Creating Helper Function to Evaluate Model "
   ]
  },
  {
   "cell_type": "code",
   "execution_count": 348,
   "id": "34f0f813",
   "metadata": {},
   "outputs": [],
   "source": [
    "# model evaluation \n",
    "def model_evaluate(model, X_train_balanced, y_train_balanced,X_val, y_val):\n",
    "    model.fit(X_train_balanced, y_train_balanced) # fitting model to train data (trainning process)\n",
    "    y_pred_train=model.predict(X_train_balanced)  # calculating y train predicted values\n",
    "    y_pred_val=model.predict(X_val) # calculating y validation predicted values\n",
    "    acc_train=accuracy_score(y_train_balanced , y_pred_train) # train accuracy\n",
    "    acc_val = accuracy_score(y_val, y_pred_val)               # validation accuracy\n",
    "    return acc_train, acc_val"
   ]
  },
  {
   "cell_type": "markdown",
   "id": "53935b07",
   "metadata": {},
   "source": [
    "# optimizing parameters using nested iterations "
   ]
  },
  {
   "cell_type": "code",
   "execution_count": 349,
   "id": "2999a020",
   "metadata": {},
   "outputs": [
    {
     "data": {
      "text/html": [
       "<div>\n",
       "<style scoped>\n",
       "    .dataframe tbody tr th:only-of-type {\n",
       "        vertical-align: middle;\n",
       "    }\n",
       "\n",
       "    .dataframe tbody tr th {\n",
       "        vertical-align: top;\n",
       "    }\n",
       "\n",
       "    .dataframe thead th {\n",
       "        text-align: right;\n",
       "    }\n",
       "</style>\n",
       "<table border=\"1\" class=\"dataframe\">\n",
       "  <thead>\n",
       "    <tr style=\"text-align: right;\">\n",
       "      <th></th>\n",
       "      <th>n_estimators</th>\n",
       "      <th>max_depth</th>\n",
       "      <th>criterion</th>\n",
       "      <th>acc_train</th>\n",
       "      <th>acc_val</th>\n",
       "      <th>acc_diff</th>\n",
       "    </tr>\n",
       "  </thead>\n",
       "  <tbody>\n",
       "    <tr>\n",
       "      <th>0</th>\n",
       "      <td>100</td>\n",
       "      <td>2</td>\n",
       "      <td>gini</td>\n",
       "      <td>0.783981</td>\n",
       "      <td>0.810651</td>\n",
       "      <td>0.026670</td>\n",
       "    </tr>\n",
       "    <tr>\n",
       "      <th>1</th>\n",
       "      <td>100</td>\n",
       "      <td>2</td>\n",
       "      <td>entropy</td>\n",
       "      <td>0.779935</td>\n",
       "      <td>0.813018</td>\n",
       "      <td>0.033082</td>\n",
       "    </tr>\n",
       "    <tr>\n",
       "      <th>2</th>\n",
       "      <td>100</td>\n",
       "      <td>3</td>\n",
       "      <td>gini</td>\n",
       "      <td>0.794498</td>\n",
       "      <td>0.827219</td>\n",
       "      <td>0.032721</td>\n",
       "    </tr>\n",
       "    <tr>\n",
       "      <th>3</th>\n",
       "      <td>100</td>\n",
       "      <td>3</td>\n",
       "      <td>entropy</td>\n",
       "      <td>0.790453</td>\n",
       "      <td>0.821302</td>\n",
       "      <td>0.030849</td>\n",
       "    </tr>\n",
       "    <tr>\n",
       "      <th>4</th>\n",
       "      <td>100</td>\n",
       "      <td>4</td>\n",
       "      <td>gini</td>\n",
       "      <td>0.810680</td>\n",
       "      <td>0.840237</td>\n",
       "      <td>0.029557</td>\n",
       "    </tr>\n",
       "    <tr>\n",
       "      <th>5</th>\n",
       "      <td>100</td>\n",
       "      <td>4</td>\n",
       "      <td>entropy</td>\n",
       "      <td>0.810680</td>\n",
       "      <td>0.840237</td>\n",
       "      <td>0.029557</td>\n",
       "    </tr>\n",
       "    <tr>\n",
       "      <th>6</th>\n",
       "      <td>100</td>\n",
       "      <td>5</td>\n",
       "      <td>gini</td>\n",
       "      <td>0.825243</td>\n",
       "      <td>0.841420</td>\n",
       "      <td>0.016177</td>\n",
       "    </tr>\n",
       "    <tr>\n",
       "      <th>7</th>\n",
       "      <td>100</td>\n",
       "      <td>5</td>\n",
       "      <td>entropy</td>\n",
       "      <td>0.822006</td>\n",
       "      <td>0.839053</td>\n",
       "      <td>0.017047</td>\n",
       "    </tr>\n",
       "    <tr>\n",
       "      <th>8</th>\n",
       "      <td>100</td>\n",
       "      <td>6</td>\n",
       "      <td>gini</td>\n",
       "      <td>0.856796</td>\n",
       "      <td>0.841420</td>\n",
       "      <td>0.015376</td>\n",
       "    </tr>\n",
       "    <tr>\n",
       "      <th>9</th>\n",
       "      <td>100</td>\n",
       "      <td>6</td>\n",
       "      <td>entropy</td>\n",
       "      <td>0.845469</td>\n",
       "      <td>0.839053</td>\n",
       "      <td>0.006416</td>\n",
       "    </tr>\n",
       "  </tbody>\n",
       "</table>\n",
       "</div>"
      ],
      "text/plain": [
       "   n_estimators  max_depth criterion  acc_train   acc_val  acc_diff\n",
       "0           100          2      gini   0.783981  0.810651  0.026670\n",
       "1           100          2   entropy   0.779935  0.813018  0.033082\n",
       "2           100          3      gini   0.794498  0.827219  0.032721\n",
       "3           100          3   entropy   0.790453  0.821302  0.030849\n",
       "4           100          4      gini   0.810680  0.840237  0.029557\n",
       "5           100          4   entropy   0.810680  0.840237  0.029557\n",
       "6           100          5      gini   0.825243  0.841420  0.016177\n",
       "7           100          5   entropy   0.822006  0.839053  0.017047\n",
       "8           100          6      gini   0.856796  0.841420  0.015376\n",
       "9           100          6   entropy   0.845469  0.839053  0.006416"
      ]
     },
     "execution_count": 349,
     "metadata": {},
     "output_type": "execute_result"
    }
   ],
   "source": [
    "acc_train_values = []  # to carry accuracy train values \n",
    "acc_val_values = []   # to carry accuracy validation values \n",
    "# the next 4 sets purpuse is to carry all possible values for each parameter\n",
    "# and then use these values to build a data fram of all possible combintions of parameters \n",
    "criterion_list =[]\n",
    "max_depth_list = []\n",
    "n_estimators_list=[]\n",
    "acc_diff_list=[]\n",
    "\n",
    "for n_estimators in list(range(100, 1000,100)):\n",
    "    for max_depth in  list(range(2, 11)):\n",
    "        for criterion in['gini', 'entropy'] :\n",
    "            RF = RandomForestClassifier(n_estimators=n_estimators,max_depth=max_depth,criterion=criterion,random_state=0)\n",
    "            acc_train, acc_val = model_evaluate(RF, X_train_balanced, y_train_balanced, X_val, y_val)\n",
    "            \n",
    "            acc_train_values.append(acc_train) \n",
    "            acc_val_values.append(acc_val)\n",
    "            criterion_list.append (criterion)\n",
    "            max_depth_list.append (max_depth)\n",
    "            n_estimators_list.append (n_estimators)\n",
    "            acc_diff_list.append(abs(acc_val-acc_train)) # get the differnce between acc_train and acc_val\n",
    "\n",
    "           \n",
    "        \n",
    "            \n",
    "            \n",
    "            \n",
    "results = pd.DataFrame({\n",
    "    'n_estimators': n_estimators_list,\n",
    "    'max_depth': max_depth_list,\n",
    "    'criterion': criterion_list,\n",
    "    'acc_train': acc_train_values,\n",
    "    'acc_val': acc_val_values,\n",
    "    'acc_diff' : acc_diff_list, \n",
    "})\n",
    "results.head(10)\n",
    "                        "
   ]
  },
  {
   "cell_type": "code",
   "execution_count": 350,
   "id": "e62738e7",
   "metadata": {},
   "outputs": [],
   "source": [
    "#print the smallest 10 differences (the top nearest two values of acc_train and acc_val ) \n",
    "best_results=results.nsmallest(10, 'acc_diff')"
   ]
  },
  {
   "cell_type": "code",
   "execution_count": 351,
   "id": "56bef52c",
   "metadata": {},
   "outputs": [
    {
     "data": {
      "text/html": [
       "<div>\n",
       "<style scoped>\n",
       "    .dataframe tbody tr th:only-of-type {\n",
       "        vertical-align: middle;\n",
       "    }\n",
       "\n",
       "    .dataframe tbody tr th {\n",
       "        vertical-align: top;\n",
       "    }\n",
       "\n",
       "    .dataframe thead th {\n",
       "        text-align: right;\n",
       "    }\n",
       "</style>\n",
       "<table border=\"1\" class=\"dataframe\">\n",
       "  <thead>\n",
       "    <tr style=\"text-align: right;\">\n",
       "      <th></th>\n",
       "      <th>n_estimators</th>\n",
       "      <th>max_depth</th>\n",
       "      <th>criterion</th>\n",
       "      <th>acc_train</th>\n",
       "      <th>acc_val</th>\n",
       "      <th>acc_diff</th>\n",
       "    </tr>\n",
       "  </thead>\n",
       "  <tbody>\n",
       "    <tr>\n",
       "      <th>99</th>\n",
       "      <td>600</td>\n",
       "      <td>6</td>\n",
       "      <td>entropy</td>\n",
       "      <td>0.841424</td>\n",
       "      <td>0.841420</td>\n",
       "      <td>0.000004</td>\n",
       "    </tr>\n",
       "    <tr>\n",
       "      <th>27</th>\n",
       "      <td>200</td>\n",
       "      <td>6</td>\n",
       "      <td>entropy</td>\n",
       "      <td>0.843851</td>\n",
       "      <td>0.843787</td>\n",
       "      <td>0.000064</td>\n",
       "    </tr>\n",
       "    <tr>\n",
       "      <th>81</th>\n",
       "      <td>500</td>\n",
       "      <td>6</td>\n",
       "      <td>entropy</td>\n",
       "      <td>0.842233</td>\n",
       "      <td>0.841420</td>\n",
       "      <td>0.000813</td>\n",
       "    </tr>\n",
       "    <tr>\n",
       "      <th>45</th>\n",
       "      <td>300</td>\n",
       "      <td>6</td>\n",
       "      <td>entropy</td>\n",
       "      <td>0.841424</td>\n",
       "      <td>0.840237</td>\n",
       "      <td>0.001187</td>\n",
       "    </tr>\n",
       "    <tr>\n",
       "      <th>117</th>\n",
       "      <td>700</td>\n",
       "      <td>6</td>\n",
       "      <td>entropy</td>\n",
       "      <td>0.843042</td>\n",
       "      <td>0.841420</td>\n",
       "      <td>0.001622</td>\n",
       "    </tr>\n",
       "    <tr>\n",
       "      <th>132</th>\n",
       "      <td>800</td>\n",
       "      <td>5</td>\n",
       "      <td>gini</td>\n",
       "      <td>0.837379</td>\n",
       "      <td>0.839053</td>\n",
       "      <td>0.001675</td>\n",
       "    </tr>\n",
       "    <tr>\n",
       "      <th>135</th>\n",
       "      <td>800</td>\n",
       "      <td>6</td>\n",
       "      <td>entropy</td>\n",
       "      <td>0.842233</td>\n",
       "      <td>0.840237</td>\n",
       "      <td>0.001996</td>\n",
       "    </tr>\n",
       "    <tr>\n",
       "      <th>114</th>\n",
       "      <td>700</td>\n",
       "      <td>5</td>\n",
       "      <td>gini</td>\n",
       "      <td>0.834142</td>\n",
       "      <td>0.836686</td>\n",
       "      <td>0.002544</td>\n",
       "    </tr>\n",
       "    <tr>\n",
       "      <th>78</th>\n",
       "      <td>500</td>\n",
       "      <td>5</td>\n",
       "      <td>gini</td>\n",
       "      <td>0.833333</td>\n",
       "      <td>0.836686</td>\n",
       "      <td>0.003353</td>\n",
       "    </tr>\n",
       "    <tr>\n",
       "      <th>96</th>\n",
       "      <td>600</td>\n",
       "      <td>5</td>\n",
       "      <td>gini</td>\n",
       "      <td>0.833333</td>\n",
       "      <td>0.836686</td>\n",
       "      <td>0.003353</td>\n",
       "    </tr>\n",
       "  </tbody>\n",
       "</table>\n",
       "</div>"
      ],
      "text/plain": [
       "     n_estimators  max_depth criterion  acc_train   acc_val  acc_diff\n",
       "99            600          6   entropy   0.841424  0.841420  0.000004\n",
       "27            200          6   entropy   0.843851  0.843787  0.000064\n",
       "81            500          6   entropy   0.842233  0.841420  0.000813\n",
       "45            300          6   entropy   0.841424  0.840237  0.001187\n",
       "117           700          6   entropy   0.843042  0.841420  0.001622\n",
       "132           800          5      gini   0.837379  0.839053  0.001675\n",
       "135           800          6   entropy   0.842233  0.840237  0.001996\n",
       "114           700          5      gini   0.834142  0.836686  0.002544\n",
       "78            500          5      gini   0.833333  0.836686  0.003353\n",
       "96            600          5      gini   0.833333  0.836686  0.003353"
      ]
     },
     "execution_count": 351,
     "metadata": {},
     "output_type": "execute_result"
    }
   ],
   "source": [
    "best_results"
   ]
  },
  {
   "cell_type": "code",
   "execution_count": 352,
   "id": "1326e184",
   "metadata": {},
   "outputs": [],
   "source": [
    "# adding an index column to use with data visualization  \n",
    "top_ten=best_results\n",
    "top_ten.insert(0, \"case\", [1,2,3,4,5,6,7,8,9,10], True)"
   ]
  },
  {
   "cell_type": "code",
   "execution_count": 353,
   "id": "98bad1f5",
   "metadata": {},
   "outputs": [
    {
     "data": {
      "text/html": [
       "<div>\n",
       "<style scoped>\n",
       "    .dataframe tbody tr th:only-of-type {\n",
       "        vertical-align: middle;\n",
       "    }\n",
       "\n",
       "    .dataframe tbody tr th {\n",
       "        vertical-align: top;\n",
       "    }\n",
       "\n",
       "    .dataframe thead th {\n",
       "        text-align: right;\n",
       "    }\n",
       "</style>\n",
       "<table border=\"1\" class=\"dataframe\">\n",
       "  <thead>\n",
       "    <tr style=\"text-align: right;\">\n",
       "      <th></th>\n",
       "      <th>case</th>\n",
       "      <th>n_estimators</th>\n",
       "      <th>max_depth</th>\n",
       "      <th>criterion</th>\n",
       "      <th>acc_train</th>\n",
       "      <th>acc_val</th>\n",
       "      <th>acc_diff</th>\n",
       "    </tr>\n",
       "  </thead>\n",
       "  <tbody>\n",
       "    <tr>\n",
       "      <th>99</th>\n",
       "      <td>1</td>\n",
       "      <td>600</td>\n",
       "      <td>6</td>\n",
       "      <td>entropy</td>\n",
       "      <td>0.841424</td>\n",
       "      <td>0.841420</td>\n",
       "      <td>0.000004</td>\n",
       "    </tr>\n",
       "    <tr>\n",
       "      <th>27</th>\n",
       "      <td>2</td>\n",
       "      <td>200</td>\n",
       "      <td>6</td>\n",
       "      <td>entropy</td>\n",
       "      <td>0.843851</td>\n",
       "      <td>0.843787</td>\n",
       "      <td>0.000064</td>\n",
       "    </tr>\n",
       "    <tr>\n",
       "      <th>81</th>\n",
       "      <td>3</td>\n",
       "      <td>500</td>\n",
       "      <td>6</td>\n",
       "      <td>entropy</td>\n",
       "      <td>0.842233</td>\n",
       "      <td>0.841420</td>\n",
       "      <td>0.000813</td>\n",
       "    </tr>\n",
       "    <tr>\n",
       "      <th>45</th>\n",
       "      <td>4</td>\n",
       "      <td>300</td>\n",
       "      <td>6</td>\n",
       "      <td>entropy</td>\n",
       "      <td>0.841424</td>\n",
       "      <td>0.840237</td>\n",
       "      <td>0.001187</td>\n",
       "    </tr>\n",
       "    <tr>\n",
       "      <th>117</th>\n",
       "      <td>5</td>\n",
       "      <td>700</td>\n",
       "      <td>6</td>\n",
       "      <td>entropy</td>\n",
       "      <td>0.843042</td>\n",
       "      <td>0.841420</td>\n",
       "      <td>0.001622</td>\n",
       "    </tr>\n",
       "    <tr>\n",
       "      <th>132</th>\n",
       "      <td>6</td>\n",
       "      <td>800</td>\n",
       "      <td>5</td>\n",
       "      <td>gini</td>\n",
       "      <td>0.837379</td>\n",
       "      <td>0.839053</td>\n",
       "      <td>0.001675</td>\n",
       "    </tr>\n",
       "    <tr>\n",
       "      <th>135</th>\n",
       "      <td>7</td>\n",
       "      <td>800</td>\n",
       "      <td>6</td>\n",
       "      <td>entropy</td>\n",
       "      <td>0.842233</td>\n",
       "      <td>0.840237</td>\n",
       "      <td>0.001996</td>\n",
       "    </tr>\n",
       "    <tr>\n",
       "      <th>114</th>\n",
       "      <td>8</td>\n",
       "      <td>700</td>\n",
       "      <td>5</td>\n",
       "      <td>gini</td>\n",
       "      <td>0.834142</td>\n",
       "      <td>0.836686</td>\n",
       "      <td>0.002544</td>\n",
       "    </tr>\n",
       "    <tr>\n",
       "      <th>78</th>\n",
       "      <td>9</td>\n",
       "      <td>500</td>\n",
       "      <td>5</td>\n",
       "      <td>gini</td>\n",
       "      <td>0.833333</td>\n",
       "      <td>0.836686</td>\n",
       "      <td>0.003353</td>\n",
       "    </tr>\n",
       "    <tr>\n",
       "      <th>96</th>\n",
       "      <td>10</td>\n",
       "      <td>600</td>\n",
       "      <td>5</td>\n",
       "      <td>gini</td>\n",
       "      <td>0.833333</td>\n",
       "      <td>0.836686</td>\n",
       "      <td>0.003353</td>\n",
       "    </tr>\n",
       "  </tbody>\n",
       "</table>\n",
       "</div>"
      ],
      "text/plain": [
       "     case  n_estimators  max_depth criterion  acc_train   acc_val  acc_diff\n",
       "99      1           600          6   entropy   0.841424  0.841420  0.000004\n",
       "27      2           200          6   entropy   0.843851  0.843787  0.000064\n",
       "81      3           500          6   entropy   0.842233  0.841420  0.000813\n",
       "45      4           300          6   entropy   0.841424  0.840237  0.001187\n",
       "117     5           700          6   entropy   0.843042  0.841420  0.001622\n",
       "132     6           800          5      gini   0.837379  0.839053  0.001675\n",
       "135     7           800          6   entropy   0.842233  0.840237  0.001996\n",
       "114     8           700          5      gini   0.834142  0.836686  0.002544\n",
       "78      9           500          5      gini   0.833333  0.836686  0.003353\n",
       "96     10           600          5      gini   0.833333  0.836686  0.003353"
      ]
     },
     "execution_count": 353,
     "metadata": {},
     "output_type": "execute_result"
    }
   ],
   "source": [
    "top_ten"
   ]
  },
  {
   "cell_type": "code",
   "execution_count": 354,
   "id": "7a323828",
   "metadata": {},
   "outputs": [
    {
     "data": {
      "image/png": "[encoded data removed]",
      "text/plain": [
       "<Figure size 576x432 with 1 Axes>"
      ]
     },
     "metadata": {
      "needs_background": "light"
     },
     "output_type": "display_data"
    }
   ],
   "source": [
    "import matplotlib.pyplot as plt\n",
    "%matplotlib inline\n",
    "\n",
    "top_ten.plot(x='case', y=['acc_train', 'acc_val'], figsize=(8, 6))\n",
    "plt.grid(axis='both')\n",
    "\n",
    "plt.xticks(np.arange(1,11, 1))\n",
    "plt.show()"
   ]
  },
  {
   "cell_type": "markdown",
   "id": "7133194f",
   "metadata": {},
   "source": [
    "# from the top_ten table and plot we conclude that the best case is case 1 when: \n",
    "# n_estimators = 600 , max_depth = 6 and criterion is entropy"
   ]
  },
  {
   "cell_type": "markdown",
   "id": "acdc93ef",
   "metadata": {},
   "source": [
    "# optimizing parameters using gridsearchCV"
   ]
  },
  {
   "cell_type": "markdown",
   "id": "4078e79a",
   "metadata": {},
   "source": [
    "RF = RandomForestClassifier()"
   ]
  },
  {
   "cell_type": "code",
   "execution_count": 355,
   "id": "d54c7b47",
   "metadata": {},
   "outputs": [
    {
     "data": {
      "text/plain": [
       "{'criterion': 'entropy', 'max_depth': 8, 'n_estimators': 115}"
      ]
     },
     "execution_count": 355,
     "metadata": {},
     "output_type": "execute_result"
    }
   ],
   "source": [
    "# using gridsearchCV to get the best parameters combination \n",
    "forest_params = [{'n_estimators' : list(range(70, 124,1)),\n",
    "                  'max_depth': list(range(2, 9)),\n",
    "                 'criterion' : ['gini', 'entropy']}] \n",
    "# deploying all possible combinations and get the best one\n",
    "# parameters and all possible values for each \n",
    "\n",
    "GS_RF=GridSearchCV(RF,param_grid=forest_params,scoring='accuracy',\n",
    "                      cv=5 )\n",
    "GS_RF.fit(X_train_balanced, y_train_balanced) # fitting model using gridsearchCV\n",
    "GS_RF.best_params_ # get the best compination of parameters "
   ]
  },
  {
   "cell_type": "markdown",
   "id": "b48a13b7",
   "metadata": {},
   "source": [
    "# using GridsearchCV for parameters optemizing we conclude that the best case is  when  :\n",
    "# n_estimators = 115 , max_depth = 8 and criterion is entropy"
   ]
  },
  {
   "cell_type": "markdown",
   "id": "20bad60c",
   "metadata": {},
   "source": [
    "# >> optimizing parameters using tervial way\n",
    "# > optimizing n_estimators"
   ]
  },
  {
   "cell_type": "code",
   "execution_count": 356,
   "id": "cfe31d20",
   "metadata": {},
   "outputs": [
    {
     "data": {
      "text/html": [
       "<div>\n",
       "<style scoped>\n",
       "    .dataframe tbody tr th:only-of-type {\n",
       "        vertical-align: middle;\n",
       "    }\n",
       "\n",
       "    .dataframe tbody tr th {\n",
       "        vertical-align: top;\n",
       "    }\n",
       "\n",
       "    .dataframe thead th {\n",
       "        text-align: right;\n",
       "    }\n",
       "</style>\n",
       "<table border=\"1\" class=\"dataframe\">\n",
       "  <thead>\n",
       "    <tr style=\"text-align: right;\">\n",
       "      <th></th>\n",
       "      <th>n_estimators</th>\n",
       "      <th>acc_train</th>\n",
       "      <th>acc_val</th>\n",
       "    </tr>\n",
       "  </thead>\n",
       "  <tbody>\n",
       "    <tr>\n",
       "      <th>0</th>\n",
       "      <td>50</td>\n",
       "      <td>0.857605</td>\n",
       "      <td>0.846154</td>\n",
       "    </tr>\n",
       "    <tr>\n",
       "      <th>1</th>\n",
       "      <td>100</td>\n",
       "      <td>0.856796</td>\n",
       "      <td>0.841420</td>\n",
       "    </tr>\n",
       "    <tr>\n",
       "      <th>2</th>\n",
       "      <td>150</td>\n",
       "      <td>0.847896</td>\n",
       "      <td>0.842604</td>\n",
       "    </tr>\n",
       "    <tr>\n",
       "      <th>3</th>\n",
       "      <td>200</td>\n",
       "      <td>0.850324</td>\n",
       "      <td>0.843787</td>\n",
       "    </tr>\n",
       "    <tr>\n",
       "      <th>4</th>\n",
       "      <td>250</td>\n",
       "      <td>0.851942</td>\n",
       "      <td>0.842604</td>\n",
       "    </tr>\n",
       "    <tr>\n",
       "      <th>5</th>\n",
       "      <td>300</td>\n",
       "      <td>0.852751</td>\n",
       "      <td>0.842604</td>\n",
       "    </tr>\n",
       "    <tr>\n",
       "      <th>6</th>\n",
       "      <td>350</td>\n",
       "      <td>0.852751</td>\n",
       "      <td>0.836686</td>\n",
       "    </tr>\n",
       "    <tr>\n",
       "      <th>7</th>\n",
       "      <td>400</td>\n",
       "      <td>0.854369</td>\n",
       "      <td>0.839053</td>\n",
       "    </tr>\n",
       "    <tr>\n",
       "      <th>8</th>\n",
       "      <td>450</td>\n",
       "      <td>0.855987</td>\n",
       "      <td>0.837870</td>\n",
       "    </tr>\n",
       "    <tr>\n",
       "      <th>9</th>\n",
       "      <td>500</td>\n",
       "      <td>0.852751</td>\n",
       "      <td>0.836686</td>\n",
       "    </tr>\n",
       "  </tbody>\n",
       "</table>\n",
       "</div>"
      ],
      "text/plain": [
       "   n_estimators  acc_train   acc_val\n",
       "0            50   0.857605  0.846154\n",
       "1           100   0.856796  0.841420\n",
       "2           150   0.847896  0.842604\n",
       "3           200   0.850324  0.843787\n",
       "4           250   0.851942  0.842604\n",
       "5           300   0.852751  0.842604\n",
       "6           350   0.852751  0.836686\n",
       "7           400   0.854369  0.839053\n",
       "8           450   0.855987  0.837870\n",
       "9           500   0.852751  0.836686"
      ]
     },
     "execution_count": 356,
     "metadata": {},
     "output_type": "execute_result"
    }
   ],
   "source": [
    "n_estimators_vals = [50, 100, 150, 200, 250,300,350,400,450,500]\n",
    "#n_estimators_vals = [1000,2000,3000,4000,5000,6000,7000,8000,9000]\n",
    "acc_train_vals = []\n",
    "acc_val_vals = []\n",
    "for estimator in n_estimators_vals:\n",
    "    RFC = RandomForestClassifier(n_estimators=estimator, max_depth=6, criterion='gini',random_state=0)\n",
    "    acc_train, acc_val = model_evaluate(RFC, X_train_balanced, y_train_balanced, X_val, y_val)\n",
    "    acc_train_vals.append(acc_train)\n",
    "    acc_val_vals.append(acc_val)\n",
    "    \n",
    "results = pd.DataFrame({\n",
    "    'n_estimators': n_estimators_vals,\n",
    "    'acc_train': acc_train_vals,\n",
    "    'acc_val': acc_val_vals,\n",
    "})\n",
    "results"
   ]
  },
  {
   "cell_type": "code",
   "execution_count": 357,
   "id": "88d8837d",
   "metadata": {},
   "outputs": [
    {
     "data": {
      "image/png": "[encoded data removed]",
      "text/plain": [
       "<Figure size 720x576 with 1 Axes>"
      ]
     },
     "metadata": {
      "needs_background": "light"
     },
     "output_type": "display_data"
    }
   ],
   "source": [
    "results.plot(x='n_estimators', y=['acc_train', 'acc_val'], figsize=(10, 8))\n",
    "plt.grid(axis='both')\n",
    "plt.xticks(n_estimators_vals)\n",
    "plt.show()"
   ]
  },
  {
   "cell_type": "markdown",
   "id": "bc397ade",
   "metadata": {},
   "source": [
    "# from the previous plot the best n_estimators value is 150"
   ]
  },
  {
   "cell_type": "markdown",
   "id": "8c5c62f8",
   "metadata": {},
   "source": [
    "# > optimizing max_depth"
   ]
  },
  {
   "cell_type": "code",
   "execution_count": 358,
   "id": "bd3bf5a1",
   "metadata": {},
   "outputs": [
    {
     "data": {
      "text/html": [
       "<div>\n",
       "<style scoped>\n",
       "    .dataframe tbody tr th:only-of-type {\n",
       "        vertical-align: middle;\n",
       "    }\n",
       "\n",
       "    .dataframe tbody tr th {\n",
       "        vertical-align: top;\n",
       "    }\n",
       "\n",
       "    .dataframe thead th {\n",
       "        text-align: right;\n",
       "    }\n",
       "</style>\n",
       "<table border=\"1\" class=\"dataframe\">\n",
       "  <thead>\n",
       "    <tr style=\"text-align: right;\">\n",
       "      <th></th>\n",
       "      <th>max_depth</th>\n",
       "      <th>acc_train</th>\n",
       "      <th>acc_val</th>\n",
       "    </tr>\n",
       "  </thead>\n",
       "  <tbody>\n",
       "    <tr>\n",
       "      <th>0</th>\n",
       "      <td>2</td>\n",
       "      <td>0.783172</td>\n",
       "      <td>0.808284</td>\n",
       "    </tr>\n",
       "    <tr>\n",
       "      <th>1</th>\n",
       "      <td>3</td>\n",
       "      <td>0.796117</td>\n",
       "      <td>0.827219</td>\n",
       "    </tr>\n",
       "    <tr>\n",
       "      <th>2</th>\n",
       "      <td>4</td>\n",
       "      <td>0.810680</td>\n",
       "      <td>0.839053</td>\n",
       "    </tr>\n",
       "    <tr>\n",
       "      <th>3</th>\n",
       "      <td>5</td>\n",
       "      <td>0.826861</td>\n",
       "      <td>0.843787</td>\n",
       "    </tr>\n",
       "    <tr>\n",
       "      <th>4</th>\n",
       "      <td>6</td>\n",
       "      <td>0.847896</td>\n",
       "      <td>0.842604</td>\n",
       "    </tr>\n",
       "    <tr>\n",
       "      <th>5</th>\n",
       "      <td>7</td>\n",
       "      <td>0.885113</td>\n",
       "      <td>0.840237</td>\n",
       "    </tr>\n",
       "    <tr>\n",
       "      <th>6</th>\n",
       "      <td>8</td>\n",
       "      <td>0.919094</td>\n",
       "      <td>0.835503</td>\n",
       "    </tr>\n",
       "    <tr>\n",
       "      <th>7</th>\n",
       "      <td>9</td>\n",
       "      <td>0.951456</td>\n",
       "      <td>0.848521</td>\n",
       "    </tr>\n",
       "    <tr>\n",
       "      <th>8</th>\n",
       "      <td>10</td>\n",
       "      <td>0.974110</td>\n",
       "      <td>0.843787</td>\n",
       "    </tr>\n",
       "    <tr>\n",
       "      <th>9</th>\n",
       "      <td>11</td>\n",
       "      <td>0.987055</td>\n",
       "      <td>0.837870</td>\n",
       "    </tr>\n",
       "  </tbody>\n",
       "</table>\n",
       "</div>"
      ],
      "text/plain": [
       "   max_depth  acc_train   acc_val\n",
       "0          2   0.783172  0.808284\n",
       "1          3   0.796117  0.827219\n",
       "2          4   0.810680  0.839053\n",
       "3          5   0.826861  0.843787\n",
       "4          6   0.847896  0.842604\n",
       "5          7   0.885113  0.840237\n",
       "6          8   0.919094  0.835503\n",
       "7          9   0.951456  0.848521\n",
       "8         10   0.974110  0.843787\n",
       "9         11   0.987055  0.837870"
      ]
     },
     "execution_count": 358,
     "metadata": {},
     "output_type": "execute_result"
    }
   ],
   "source": [
    "max_depth_vals = [2,3,4,5,6,7,8,9,10,11]\n",
    "acc_train_vals = []\n",
    "acc_val_vals = []\n",
    "for depth in max_depth_vals :\n",
    "    RFC = RandomForestClassifier(n_estimators=150, max_depth=depth, criterion='gini',random_state=0)\n",
    "    acc_train, acc_val = model_evaluate(RFC, X_train_balanced, y_train_balanced, X_val, y_val)\n",
    "    acc_train_vals.append(acc_train)\n",
    "    acc_val_vals.append(acc_val)\n",
    "    \n",
    "results = pd.DataFrame({\n",
    "    'max_depth': max_depth_vals,\n",
    "    'acc_train': acc_train_vals,\n",
    "    'acc_val': acc_val_vals,\n",
    "})\n",
    "results"
   ]
  },
  {
   "cell_type": "code",
   "execution_count": 359,
   "id": "69f876e5",
   "metadata": {},
   "outputs": [
    {
     "data": {
      "image/png": "[encoded data removed]",
      "text/plain": [
       "<Figure size 720x576 with 1 Axes>"
      ]
     },
     "metadata": {
      "needs_background": "light"
     },
     "output_type": "display_data"
    }
   ],
   "source": [
    "results.plot(x='max_depth', y=['acc_train', 'acc_val'], figsize=(10, 8))\n",
    "plt.grid(axis='both')\n",
    "plt.xticks(max_depth_vals)\n",
    "plt.show()"
   ]
  },
  {
   "cell_type": "markdown",
   "id": "e096d1eb",
   "metadata": {},
   "source": [
    "# from the previous plot the best max_depth value is 6"
   ]
  },
  {
   "cell_type": "markdown",
   "id": "3faa828d",
   "metadata": {},
   "source": [
    "# > optimizing criterion\n"
   ]
  },
  {
   "cell_type": "code",
   "execution_count": 361,
   "id": "cd3401d3",
   "metadata": {},
   "outputs": [
    {
     "data": {
      "text/html": [
       "<div>\n",
       "<style scoped>\n",
       "    .dataframe tbody tr th:only-of-type {\n",
       "        vertical-align: middle;\n",
       "    }\n",
       "\n",
       "    .dataframe tbody tr th {\n",
       "        vertical-align: top;\n",
       "    }\n",
       "\n",
       "    .dataframe thead th {\n",
       "        text-align: right;\n",
       "    }\n",
       "</style>\n",
       "<table border=\"1\" class=\"dataframe\">\n",
       "  <thead>\n",
       "    <tr style=\"text-align: right;\">\n",
       "      <th></th>\n",
       "      <th>criterion_vals</th>\n",
       "      <th>acc_train</th>\n",
       "      <th>acc_val</th>\n",
       "    </tr>\n",
       "  </thead>\n",
       "  <tbody>\n",
       "    <tr>\n",
       "      <th>0</th>\n",
       "      <td>gini</td>\n",
       "      <td>0.847896</td>\n",
       "      <td>0.842604</td>\n",
       "    </tr>\n",
       "    <tr>\n",
       "      <th>1</th>\n",
       "      <td>entropy</td>\n",
       "      <td>0.844660</td>\n",
       "      <td>0.839053</td>\n",
       "    </tr>\n",
       "  </tbody>\n",
       "</table>\n",
       "</div>"
      ],
      "text/plain": [
       "  criterion_vals  acc_train   acc_val\n",
       "0           gini   0.847896  0.842604\n",
       "1        entropy   0.844660  0.839053"
      ]
     },
     "execution_count": 361,
     "metadata": {},
     "output_type": "execute_result"
    }
   ],
   "source": [
    "criterion_vals = ['gini', 'entropy']\n",
    "acc_train_vals = []\n",
    "acc_val_vals = []\n",
    "for criterion in criterion_vals :\n",
    "    RFC = RandomForestClassifier(n_estimators=150, max_depth=6,criterion=criterion, random_state=0)\n",
    "    acc_train, acc_val = model_evaluate(RFC, X_train_balanced, y_train_balanced, X_val, y_val)\n",
    "    acc_train_vals.append(acc_train)\n",
    "    acc_val_vals.append(acc_val)\n",
    "    \n",
    "results = pd.DataFrame({\n",
    "    'criterion_vals':criterion_vals,\n",
    "    'acc_train': acc_train_vals,\n",
    "    'acc_val': acc_val_vals,\n",
    "})\n",
    "results"
   ]
  },
  {
   "cell_type": "markdown",
   "id": "5390b055",
   "metadata": {},
   "source": [
    "# using trivial way for parameters optemizing we conclude that the best case is  when  :\n",
    "# n_estimators = 150 , max_depth = 6 and criterion is gini"
   ]
  },
  {
   "cell_type": "markdown",
   "id": "8e35d060",
   "metadata": {},
   "source": [
    "# according to the three methods used above we get three models (best model for each method)\n",
    "# m1  using >>> nested_optimizing_RF\n",
    "# m2  using >>> GridsearchCV_optimizing_RF\n",
    "# m3  using >>> trivial way"
   ]
  },
  {
   "cell_type": "code",
   "execution_count": 362,
   "id": "e82e9177",
   "metadata": {},
   "outputs": [],
   "source": [
    "m1=RandomForestClassifier(n_estimators=600, max_depth=6, criterion='entropy',random_state=0)\n",
    "m2=RandomForestClassifier(n_estimators=115, max_depth=8, criterion='entropy',random_state=0)\n",
    "m3=RandomForestClassifier(n_estimators=150, max_depth=6, criterion='gini',random_state=0)"
   ]
  },
  {
   "cell_type": "code",
   "execution_count": 363,
   "id": "c2d0bb37",
   "metadata": {},
   "outputs": [],
   "source": [
    "m1_acc_train, m1_acc_val = model_evaluate(m1, X_train_balanced, y_train_balanced, X_val, y_val)\n",
    "m2_acc_train, m2_acc_val = model_evaluate(m2, X_train_balanced, y_train_balanced, X_val, y_val)\n",
    "m3_acc_train, m3_acc_val = model_evaluate(m3, X_train_balanced, y_train_balanced, X_val, y_val)"
   ]
  },
  {
   "cell_type": "markdown",
   "id": "e76fb302",
   "metadata": {},
   "source": [
    "# testing models "
   ]
  },
  {
   "cell_type": "code",
   "execution_count": 364,
   "id": "b57c2c8a",
   "metadata": {},
   "outputs": [],
   "source": [
    "m1_acc_test = model_evaluate(m1, X_train_balanced, y_train_balanced, X_test, y_test)\n",
    "m2_acc_test = model_evaluate(m2, X_train_balanced, y_train_balanced, X_test, y_test)\n",
    "m3_acc_test = model_evaluate(m3, X_train_balanced, y_train_balanced, X_test, y_test)"
   ]
  },
  {
   "cell_type": "code",
   "execution_count": 365,
   "id": "879fd1b0",
   "metadata": {},
   "outputs": [
    {
     "data": {
      "text/html": [
       "<div>\n",
       "<style scoped>\n",
       "    .dataframe tbody tr th:only-of-type {\n",
       "        vertical-align: middle;\n",
       "    }\n",
       "\n",
       "    .dataframe tbody tr th {\n",
       "        vertical-align: top;\n",
       "    }\n",
       "\n",
       "    .dataframe thead th {\n",
       "        text-align: right;\n",
       "    }\n",
       "</style>\n",
       "<table border=\"1\" class=\"dataframe\">\n",
       "  <thead>\n",
       "    <tr style=\"text-align: right;\">\n",
       "      <th></th>\n",
       "      <th>model</th>\n",
       "      <th>acc_train</th>\n",
       "      <th>acc_val</th>\n",
       "      <th>acc_test</th>\n",
       "    </tr>\n",
       "  </thead>\n",
       "  <tbody>\n",
       "    <tr>\n",
       "      <th>0</th>\n",
       "      <td>m1</td>\n",
       "      <td>0.841424</td>\n",
       "      <td>0.841420</td>\n",
       "      <td>0.860927</td>\n",
       "    </tr>\n",
       "    <tr>\n",
       "      <th>1</th>\n",
       "      <td>m2</td>\n",
       "      <td>0.914239</td>\n",
       "      <td>0.841420</td>\n",
       "      <td>0.865894</td>\n",
       "    </tr>\n",
       "    <tr>\n",
       "      <th>2</th>\n",
       "      <td>m3</td>\n",
       "      <td>0.847896</td>\n",
       "      <td>0.842604</td>\n",
       "      <td>0.858444</td>\n",
       "    </tr>\n",
       "  </tbody>\n",
       "</table>\n",
       "</div>"
      ],
      "text/plain": [
       "  model  acc_train   acc_val  acc_test\n",
       "0    m1   0.841424  0.841420  0.860927\n",
       "1    m2   0.914239  0.841420  0.865894\n",
       "2    m3   0.847896  0.842604  0.858444"
      ]
     },
     "execution_count": 365,
     "metadata": {},
     "output_type": "execute_result"
    }
   ],
   "source": [
    "model=['m1','m2','m3']\n",
    "model_acc_train=[m1_acc_train, m2_acc_train, m3_acc_train]\n",
    "model_acc_val=[m1_acc_val, m2_acc_val, m3_acc_val]\n",
    "model_acc_test=[m1_acc_test[1],m2_acc_test[1],m3_acc_test[1]]\n",
    "results = pd.DataFrame({\n",
    "    'model':model,\n",
    "    'acc_train': model_acc_train,\n",
    "    'acc_val': model_acc_val,\n",
    "    'acc_test':model_acc_test\n",
    "})\n",
    "results"
   ]
  },
  {
   "cell_type": "code",
   "execution_count": 367,
   "id": "374575ce",
   "metadata": {},
   "outputs": [],
   "source": [
    "m1_y_pred_val=m1.predict(X_test)\n",
    "m2_y_pred_val=m2.predict(X_test)\n",
    "m3_y_pred_val=m3.predict(X_test)"
   ]
  },
  {
   "cell_type": "code",
   "execution_count": 387,
   "id": "576631c8",
   "metadata": {},
   "outputs": [
    {
     "data": {
      "text/plain": [
       "array([[128,  53],\n",
       "       [115, 912]], dtype=int64)"
      ]
     },
     "execution_count": 387,
     "metadata": {},
     "output_type": "execute_result"
    },
    {
     "data": {
      "text/plain": [
       "<Figure size 3600x2400 with 0 Axes>"
      ]
     },
     "metadata": {},
     "output_type": "display_data"
    }
   ],
   "source": [
    "from sklearn.metrics import confusion_matrix\n",
    "\n",
    "plt.figure(dpi=600)\n",
    "# confusion_matrix for m1, m2 and m3 \n",
    "m1_mat = confusion_matrix(y_test, m1_y_pred_val)\n",
    "m2_mat = confusion_matrix(y_test, m2_y_pred_val)\n",
    "m3_mat = confusion_matrix(y_test, m3_y_pred_val)\n"
   ]
  },
  {
   "cell_type": "code",
   "execution_count": 392,
   "id": "f279cf5e",
   "metadata": {},
   "outputs": [
    {
     "data": {
      "image/png": "[encoded data removed]",
      "text/plain": [
       "<Figure size 432x288 with 1 Axes>"
      ]
     },
     "metadata": {
      "needs_background": "light"
     },
     "output_type": "display_data"
    }
   ],
   "source": [
    "# m1 heat map\n",
    "sns.heatmap(m1_mat.T, annot=True, fmt='d', cbar=False)\n",
    "\n",
    "plt.title('Confusion Matrix for M1')\n",
    "plt.xlabel('true label')\n",
    "plt.ylabel('predicted label')\n",
    "plt.savefig(\"M1_confusion_matrix.png\")\n",
    "plt.show()\n"
   ]
  },
  {
   "cell_type": "code",
   "execution_count": 393,
   "id": "8336fbb9",
   "metadata": {},
   "outputs": [
    {
     "data": {
      "image/png": "[encoded data removed]",
      "text/plain": [
       "<Figure size 432x288 with 1 Axes>"
      ]
     },
     "metadata": {
      "needs_background": "light"
     },
     "output_type": "display_data"
    }
   ],
   "source": [
    "# m2 heat map\n",
    "sns.heatmap(m2_mat.T, annot=True, fmt='d', cbar=False)\n",
    "\n",
    "plt.title('Confusion Matrix for M2')\n",
    "plt.xlabel('true label')\n",
    "plt.ylabel('predicted label')\n",
    "plt.savefig(\"M2_confusion_matrix.png\")\n",
    "plt.show()\n"
   ]
  },
  {
   "cell_type": "code",
   "execution_count": 394,
   "id": "eb3a7513",
   "metadata": {},
   "outputs": [
    {
     "data": {
      "image/png": "[encoded data removed]",
      "text/plain": [
       "<Figure size 432x288 with 1 Axes>"
      ]
     },
     "metadata": {
      "needs_background": "light"
     },
     "output_type": "display_data"
    }
   ],
   "source": [
    "# m3 heat map\n",
    "sns.heatmap(m3_mat.T, annot=True, fmt='d', cbar=False)\n",
    "\n",
    "plt.title('Confusion Matrix for M3')\n",
    "plt.xlabel('true label')\n",
    "plt.ylabel('predicted label')\n",
    "plt.savefig(\"M3_confusion_matrix.png\")\n",
    "plt.show()\n"
   ]
  },
  {
   "cell_type": "code",
   "execution_count": null,
   "id": "173aabc3",
   "metadata": {},
   "outputs": [],
   "source": []
  }
 ],
 "metadata": {
  "kernelspec": {
   "display_name": "Python 3",
   "language": "python",
   "name": "python3"
  },
  "language_info": {
   "codemirror_mode": {
    "name": "ipython",
    "version": 3
   },
   "file_extension": ".py",
   "mimetype": "text/x-python",
   "name": "python",
   "nbconvert_exporter": "python",
   "pygments_lexer": "ipython3",
   "version": "3.8.8"
  }
 },
 "nbformat": 4,
 "nbformat_minor": 5
}
