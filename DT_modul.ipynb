{
 "cells": [
  {
   "cell_type": "code",
   "execution_count": 10,
   "id": "a497f194",
   "metadata": {},
   "outputs": [
    {
     "name": "stdout",
     "output_type": "stream",
     "text": [
      "<class 'pandas.core.frame.DataFrame'>\n",
      "RangeIndex: 4024 entries, 0 to 4023\n",
      "Data columns (total 15 columns):\n",
      " #   Column                  Non-Null Count  Dtype \n",
      "---  ------                  --------------  ----- \n",
      " 0   Age                     4024 non-null   int64 \n",
      " 1   Race                    4024 non-null   object\n",
      " 2   Marital Status          4024 non-null   object\n",
      " 3   T Stage                 4024 non-null   object\n",
      " 4   N Stage                 4024 non-null   object\n",
      " 5   6th Stage               4024 non-null   object\n",
      " 6   Grade                   4024 non-null   object\n",
      " 7   A Stage                 4024 non-null   object\n",
      " 8   Tumor Size              4024 non-null   int64 \n",
      " 9   Estrogen Status         4024 non-null   object\n",
      " 10  Progesterone Status     4024 non-null   object\n",
      " 11  Regional Node Examined  4024 non-null   int64 \n",
      " 12  Reginol Node Positive   4024 non-null   int64 \n",
      " 13  Survival Months         4024 non-null   int64 \n",
      " 14  Status                  4024 non-null   object\n",
      "dtypes: int64(5), object(10)\n",
      "memory usage: 471.7+ KB\n",
      "column name: 'Race'\n",
      " number of values: 3'\n",
      " The values are ['Other (American Indian/AK Native, Asian/Pacific Islander)' 'White'\n",
      " 'Black']\n",
      "----------------------------------\n",
      "column name: 'Marital Status'\n",
      " number of values: 5'\n",
      " The values are ['Married (including common law)' 'Divorced' 'Single (never married)'\n",
      " 'Widowed' 'Separated']\n",
      "----------------------------------\n",
      "column name: 'T Stage'\n",
      " number of values: 4'\n",
      " The values are ['T2' 'T1' 'T3' 'T4']\n",
      "----------------------------------\n",
      "column name: 'N Stage'\n",
      " number of values: 3'\n",
      " The values are ['N3' 'N2' 'N1']\n",
      "----------------------------------\n",
      "column name: '6th Stage'\n",
      " number of values: 5'\n",
      " The values are ['IIIC' 'IIIA' 'IIB' 'IIA' 'IIIB']\n",
      "----------------------------------\n",
      "column name: 'Grade'\n",
      " number of values: 4'\n",
      " The values are ['Moderately differentiated; Grade II' 'Poorly differentiated; Grade III'\n",
      " 'Well differentiated; Grade I' 'Undifferentiated; anaplastic; Grade IV']\n",
      "----------------------------------\n",
      "column name: 'A Stage'\n",
      " number of values: 2'\n",
      " The values are ['Regional' 'Distant']\n",
      "----------------------------------\n",
      "column name: 'Estrogen Status'\n",
      " number of values: 2'\n",
      " The values are ['Positive' 'Negative']\n",
      "----------------------------------\n",
      "column name: 'Progesterone Status'\n",
      " number of values: 2'\n",
      " The values are ['Positive' 'Negative']\n",
      "----------------------------------\n",
      "column name: 'Status'\n",
      " number of values: 2'\n",
      " The values are ['Alive' 'Dead']\n",
      "----------------------------------\n",
      "X_train: (1971, 20)\n",
      "y_train: (1971,)\n",
      "-------------------------\n",
      "X_val: (845, 20)\n",
      "y_val: (845,)\n",
      "-------------------------\n",
      "X_test: (1208, 20)\n",
      "y_test: (1208,)\n"
     ]
    }
   ],
   "source": [
    "import preprocessing"
   ]
  },
  {
   "cell_type": "code",
   "execution_count": null,
   "id": "7842d408",
   "metadata": {},
   "outputs": [],
   "source": []
  }
 ],
 "metadata": {
  "kernelspec": {
   "display_name": "Python 3 (ipykernel)",
   "language": "python",
   "name": "python3"
  },
  "language_info": {
   "codemirror_mode": {
    "name": "ipython",
    "version": 3
   },
   "file_extension": ".py",
   "mimetype": "text/x-python",
   "name": "python",
   "nbconvert_exporter": "python",
   "pygments_lexer": "ipython3",
   "version": "3.9.7"
  }
 },
 "nbformat": 4,
 "nbformat_minor": 5
}
