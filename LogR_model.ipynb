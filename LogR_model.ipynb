{
 "cells": [
  {
   "cell_type": "code",
   "execution_count": 14,
   "id": "502b013d",
   "metadata": {},
   "outputs": [
    {
     "name": "stdout",
     "output_type": "stream",
     "text": [
      "Using pip 21.2.4 from C:\\Users\\Badawy\\anaconda3\\lib\\site-packages\\pip (python 3.9)\n",
      "Requirement already satisfied: scikit-learn in c:\\users\\badawy\\anaconda3\\lib\\site-packages (1.1.0)\n",
      "Requirement already satisfied: joblib>=1.0.0 in c:\\users\\badawy\\anaconda3\\lib\\site-packages (from scikit-learn) (1.1.0)\n",
      "Requirement already satisfied: scipy>=1.3.2 in c:\\users\\badawy\\anaconda3\\lib\\site-packages (from scikit-learn) (1.7.1)\n",
      "Requirement already satisfied: threadpoolctl>=2.0.0 in c:\\users\\badawy\\anaconda3\\lib\\site-packages (from scikit-learn) (2.2.0)\n",
      "Requirement already satisfied: numpy>=1.17.3 in c:\\users\\badawy\\anaconda3\\lib\\site-packages (from scikit-learn) (1.20.3)\n",
      "Note: you may need to restart the kernel to use updated packages.\n"
     ]
    }
   ],
   "source": [
    "pip install scikit-learn -v"
   ]
  },
  {
   "cell_type": "code",
   "execution_count": 1,
   "id": "21b7d508",
   "metadata": {},
   "outputs": [
    {
     "name": "stdout",
     "output_type": "stream",
     "text": [
      "<class 'pandas.core.frame.DataFrame'>\n",
      "RangeIndex: 4024 entries, 0 to 4023\n",
      "Data columns (total 15 columns):\n",
      " #   Column                  Non-Null Count  Dtype \n",
      "---  ------                  --------------  ----- \n",
      " 0   Age                     4024 non-null   int64 \n",
      " 1   Race                    4024 non-null   object\n",
      " 2   Marital Status          4024 non-null   object\n",
      " 3   T Stage                 4024 non-null   object\n",
      " 4   N Stage                 4024 non-null   object\n",
      " 5   6th Stage               4024 non-null   object\n",
      " 6   Grade                   4024 non-null   object\n",
      " 7   A Stage                 4024 non-null   object\n",
      " 8   Tumor Size              4024 non-null   int64 \n",
      " 9   Estrogen Status         4024 non-null   object\n",
      " 10  Progesterone Status     4024 non-null   object\n",
      " 11  Regional Node Examined  4024 non-null   int64 \n",
      " 12  Reginol Node Positive   4024 non-null   int64 \n",
      " 13  Survival Months         4024 non-null   int64 \n",
      " 14  Status                  4024 non-null   object\n",
      "dtypes: int64(5), object(10)\n",
      "memory usage: 471.7+ KB\n",
      "column name: 'Race'\n",
      " number of values: 3'\n",
      " The values are ['Other (American Indian/AK Native, Asian/Pacific Islander)' 'White'\n",
      " 'Black']\n",
      "----------------------------------\n",
      "column name: 'Marital Status'\n",
      " number of values: 5'\n",
      " The values are ['Married (including common law)' 'Divorced' 'Single (never married)'\n",
      " 'Widowed' 'Separated']\n",
      "----------------------------------\n",
      "column name: 'T Stage'\n",
      " number of values: 4'\n",
      " The values are ['T2' 'T1' 'T3' 'T4']\n",
      "----------------------------------\n",
      "column name: 'N Stage'\n",
      " number of values: 3'\n",
      " The values are ['N3' 'N2' 'N1']\n",
      "----------------------------------\n",
      "column name: '6th Stage'\n",
      " number of values: 5'\n",
      " The values are ['IIIC' 'IIIA' 'IIB' 'IIA' 'IIIB']\n",
      "----------------------------------\n",
      "column name: 'Grade'\n",
      " number of values: 4'\n",
      " The values are ['Moderately differentiated; Grade II' 'Poorly differentiated; Grade III'\n",
      " 'Well differentiated; Grade I' 'Undifferentiated; anaplastic; Grade IV']\n",
      "----------------------------------\n",
      "column name: 'A Stage'\n",
      " number of values: 2'\n",
      " The values are ['Regional' 'Distant']\n",
      "----------------------------------\n",
      "column name: 'Estrogen Status'\n",
      " number of values: 2'\n",
      " The values are ['Positive' 'Negative']\n",
      "----------------------------------\n",
      "column name: 'Progesterone Status'\n",
      " number of values: 2'\n",
      " The values are ['Positive' 'Negative']\n",
      "----------------------------------\n",
      "column name: 'Status'\n",
      " number of values: 2'\n",
      " The values are ['Alive' 'Dead']\n",
      "----------------------------------\n",
      "X_train: (1971, 20)\n",
      "y_train: (1971,)\n",
      "-------------------------\n",
      "X_val: (845, 20)\n",
      "y_val: (845,)\n",
      "-------------------------\n",
      "X_test: (1208, 20)\n",
      "y_test: (1208,)\n"
     ]
    }
   ],
   "source": [
    "\n",
    "from preprocessing import * # Call preprocessing file"
   ]
  },
  {
   "cell_type": "markdown",
   "id": "a55b6590",
   "metadata": {},
   "source": [
    "### ----------------------------------------------------------------------------------------------------\n",
    "## Check The Train Data Is Balanced"
   ]
  },
  {
   "cell_type": "code",
   "execution_count": 2,
   "id": "7b959b63",
   "metadata": {},
   "outputs": [
    {
     "data": {
      "text/plain": [
       "<AxesSubplot:>"
      ]
     },
     "execution_count": 2,
     "metadata": {},
     "output_type": "execute_result"
    },
    {
     "data": {
      "image/png": "[encoded data removed]",
      "text/plain": [
       "<Figure size 432x288 with 1 Axes>"
      ]
     },
     "metadata": {
      "needs_background": "light"
     },
     "output_type": "display_data"
    }
   ],
   "source": [
    "y_train_balanced.value_counts().plot.bar()"
   ]
  },
  {
   "cell_type": "markdown",
   "id": "a04b654b",
   "metadata": {},
   "source": [
    "## ----------------------------------------------------------------------------------------------------\n",
    "# Import Model "
   ]
  },
  {
   "cell_type": "code",
   "execution_count": 10,
   "id": "57cd92f4",
   "metadata": {},
   "outputs": [],
   "source": [
    "from sklearn.linear_model import LogisticRegression #import Model\n",
    "from sklearn.pipeline import Pipeline \n",
    "from sklearn.preprocessing import StandardScaler # to Make Features Scaling\n",
    "from sklearn.metrics import accuracy_score #To clac Accuarcy "
   ]
  },
  {
   "cell_type": "markdown",
   "id": "1ad984d0",
   "metadata": {},
   "source": [
    "### ----------------------------------------------------------------------------------------------------\n",
    "## Function To Make [Train Model] And [Return Accuracy] of Train and Validation "
   ]
  },
  {
   "cell_type": "markdown",
   "id": "99490fd5",
   "metadata": {},
   "source": [
    "- Take 4 parameter ( \n",
    "                     model [Which Trained],\n",
    "                     X_train [Data_input Which Model Will used To Learn],\n",
    "                     y_train [Data_output Which Model Will used To Learn],\n",
    "                     X_val [Data_input Which Model used To be pridect output based on what Lean],\n",
    "                     y_val [Data_output Which Model used To be Check output Validation])"
   ]
  },
  {
   "cell_type": "code",
   "execution_count": 11,
   "id": "e5a1871b",
   "metadata": {},
   "outputs": [],
   "source": [
    "def train_model(model, X_train, y_train, X_val, y_val):\n",
    "    model.fit(X_train, y_train) # Train Model \n",
    "    y_pred_train = model.predict(X_train) #Store Predict Output For Train input\n",
    "    y_pred_val = model.predict(X_val) #Store Predict Output For Validation input\n",
    "    acc_train = accuracy_score(y_train, y_pred_train) #Calc Accuarcy Between Real Output And predict OutPut Then Store Accuarcy\n",
    "    acc_val = accuracy_score(y_val, y_pred_val) \n",
    "    return acc_train, acc_val "
   ]
  },
  {
   "cell_type": "markdown",
   "id": "9d502637",
   "metadata": {},
   "source": [
    "# MODEl"
   ]
  },
  {
   "cell_type": "code",
   "execution_count": 15,
   "id": "7d28f6ea",
   "metadata": {},
   "outputs": [
    {
     "data": {
      "text/plain": [
       "(0.7888349514563107, 0.7834319526627219)"
      ]
     },
     "execution_count": 15,
     "metadata": {},
     "output_type": "execute_result"
    }
   ],
   "source": [
    "model = Pipeline([ \n",
    "    ('feature_scaling', StandardScaler()), # First Stage To Make Features Scaling\n",
    "    ('logistic_regression', LogisticRegression(random_state=0)) # Secound Stage Using Model \n",
    "])\n",
    "train_model(model, X_train_balanced, y_train_balanced, X_val, y_val) #Call Function Train And Send paraemter\n",
    "# ( acc_train , acc_val ) "
   ]
  },
  {
   "cell_type": "markdown",
   "id": "d286dd66",
   "metadata": {},
   "source": [
    "## -----------------------------------------------------------------------\n",
    "# Hyperparameter tuning: C\n",
    "The C hyperparameter is a regularization hyperparameter. It usually (but not always) has the following effect:\n",
    "1. Smaller values for C:\n",
    "    - High regularization\n",
    "    - Reduces overfitting\n",
    "    - But too small values can make accuracy very low\n",
    "2. Larger values for C:\n",
    "    - Low regularization\n",
    "    - High training accuracy\n",
    "    - Can lead to overfitting"
   ]
  },
  {
   "cell_type": "code",
   "execution_count": 21,
   "id": "0a41be67",
   "metadata": {},
   "outputs": [
    {
     "data": {
      "text/html": [
       "<div>\n",
       "<style scoped>\n",
       "    .dataframe tbody tr th:only-of-type {\n",
       "        vertical-align: middle;\n",
       "    }\n",
       "\n",
       "    .dataframe tbody tr th {\n",
       "        vertical-align: top;\n",
       "    }\n",
       "\n",
       "    .dataframe thead th {\n",
       "        text-align: right;\n",
       "    }\n",
       "</style>\n",
       "<table border=\"1\" class=\"dataframe\">\n",
       "  <thead>\n",
       "    <tr style=\"text-align: right;\">\n",
       "      <th></th>\n",
       "      <th>C</th>\n",
       "      <th>acc_train</th>\n",
       "      <th>acc_val</th>\n",
       "    </tr>\n",
       "  </thead>\n",
       "  <tbody>\n",
       "    <tr>\n",
       "      <th>0</th>\n",
       "      <td>0.0001</td>\n",
       "      <td>0.737864</td>\n",
       "      <td>0.746746</td>\n",
       "    </tr>\n",
       "    <tr>\n",
       "      <th>1</th>\n",
       "      <td>0.0010</td>\n",
       "      <td>0.748382</td>\n",
       "      <td>0.763314</td>\n",
       "    </tr>\n",
       "    <tr>\n",
       "      <th>2</th>\n",
       "      <td>0.0100</td>\n",
       "      <td>0.771845</td>\n",
       "      <td>0.785799</td>\n",
       "    </tr>\n",
       "    <tr>\n",
       "      <th>3</th>\n",
       "      <td>0.1000</td>\n",
       "      <td>0.789644</td>\n",
       "      <td>0.782249</td>\n",
       "    </tr>\n",
       "    <tr>\n",
       "      <th>4</th>\n",
       "      <td>1.0000</td>\n",
       "      <td>0.788835</td>\n",
       "      <td>0.783432</td>\n",
       "    </tr>\n",
       "    <tr>\n",
       "      <th>5</th>\n",
       "      <td>10.0000</td>\n",
       "      <td>0.788026</td>\n",
       "      <td>0.786982</td>\n",
       "    </tr>\n",
       "    <tr>\n",
       "      <th>6</th>\n",
       "      <td>100.0000</td>\n",
       "      <td>0.788026</td>\n",
       "      <td>0.786982</td>\n",
       "    </tr>\n",
       "    <tr>\n",
       "      <th>7</th>\n",
       "      <td>1000.0000</td>\n",
       "      <td>0.788026</td>\n",
       "      <td>0.786982</td>\n",
       "    </tr>\n",
       "    <tr>\n",
       "      <th>8</th>\n",
       "      <td>10000.0000</td>\n",
       "      <td>0.788026</td>\n",
       "      <td>0.786982</td>\n",
       "    </tr>\n",
       "  </tbody>\n",
       "</table>\n",
       "</div>"
      ],
      "text/plain": [
       "            C  acc_train   acc_val\n",
       "0      0.0001   0.737864  0.746746\n",
       "1      0.0010   0.748382  0.763314\n",
       "2      0.0100   0.771845  0.785799\n",
       "3      0.1000   0.789644  0.782249\n",
       "4      1.0000   0.788835  0.783432\n",
       "5     10.0000   0.788026  0.786982\n",
       "6    100.0000   0.788026  0.786982\n",
       "7   1000.0000   0.788026  0.786982\n",
       "8  10000.0000   0.788026  0.786982"
      ]
     },
     "execution_count": 21,
     "metadata": {},
     "output_type": "execute_result"
    }
   ],
   "source": [
    "C_values = [0.0001, 0.001, 0.01, 0.1, 1, 10, 100, 1000, 10000]\n",
    "acc_train_values = [] #Store Accuarcy Train\n",
    "acc_val_values = [] #Store Accuarcy Validation\n",
    "\n",
    "for C in C_values:\n",
    "    model = Pipeline([\n",
    "        ('feature_scaling', StandardScaler()),\n",
    "        ('logistic_regression', LogisticRegression(C=C, random_state=0)) # Using C Hyperparameter Tuning\n",
    "    ])\n",
    "    acc_train, acc_val = train_model(model, X_train_balanced, y_train_balanced, X_val, y_val)\n",
    "    acc_train_values.append(acc_train) #To Add In List \n",
    "    acc_val_values.append(acc_val)\n",
    "\n",
    "results = pd.DataFrame({\n",
    "    'C': C_values,\n",
    "    'acc_train': acc_train_values,\n",
    "    'acc_val': acc_val_values\n",
    "})\n",
    "results"
   ]
  },
  {
   "cell_type": "code",
   "execution_count": 27,
   "id": "24ec6a9c",
   "metadata": {},
   "outputs": [
    {
     "data": {
      "image/png": "[encoded data removed]",
      "text/plain": [
       "<Figure size 1080x720 with 1 Axes>"
      ]
     },
     "metadata": {
      "needs_background": "light"
     },
     "output_type": "display_data"
    }
   ],
   "source": [
    "import numpy as np\n",
    "import matplotlib.pyplot as plt #to Draw\n",
    "%matplotlib inline \n",
    "\n",
    "results.plot.bar(x='C', y=['acc_train', 'acc_val'], figsize=(15, 10))\n",
    "plt.yticks(np.arange(0.0, 1.1, 0.1))\n",
    "plt.grid(axis='y')\n",
    "plt.show()"
   ]
  },
  {
   "cell_type": "markdown",
   "id": "b1cea789",
   "metadata": {},
   "source": [
    "# Testing best model Using C = 10"
   ]
  },
  {
   "cell_type": "code",
   "execution_count": 43,
   "id": "23bf91d7",
   "metadata": {},
   "outputs": [
    {
     "name": "stdout",
     "output_type": "stream",
     "text": [
      "Accuarcy of Model = 0.8029801324503312\n",
      "Accuarcy of Model (percentage) = 80.0 %\n"
     ]
    }
   ],
   "source": [
    "model_best = Pipeline([\n",
    "    ('feature_scaling', StandardScaler()),\n",
    "    ('logistic_regression', LogisticRegression(C=10, random_state=0))\n",
    "])\n",
    "model_best.fit(X_train_balanced, y_train_balanced)\n",
    "y_pred_test = model_best.predict(X_test)\n",
    "print(\"Accuarcy of Model =\", accuracy_score(y_test, y_pred_test))\n",
    "print(\"Accuarcy of Model (percentage) =\", round(accuracy_score(y_test, y_pred_test), 2)*100 ,\"%\")"
   ]
  },
  {
   "cell_type": "code",
   "execution_count": null,
   "id": "637f8042",
   "metadata": {},
   "outputs": [],
   "source": []
  }
 ],
 "metadata": {
  "kernelspec": {
   "display_name": "Python 3 (ipykernel)",
   "language": "python",
   "name": "python3"
  },
  "language_info": {
   "codemirror_mode": {
    "name": "ipython",
    "version": 3
   },
   "file_extension": ".py",
   "mimetype": "text/x-python",
   "name": "python",
   "nbconvert_exporter": "python",
   "pygments_lexer": "ipython3",
   "version": "3.9.7"
  },
  "vscode": {
   "interpreter": {
    "hash": "089c2d1287dd988c2b12ed183f5071821d8c072debef1e55cc6ae34049b1fbaf"
   }
  }
 },
 "nbformat": 4,
 "nbformat_minor": 5
}
