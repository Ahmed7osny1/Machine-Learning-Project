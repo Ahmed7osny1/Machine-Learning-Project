{
 "cells": [
  {
   "cell_type": "code",
   "execution_count": 1,
   "id": "e13c7200",
   "metadata": {},
   "outputs": [
    {
     "name": "stdout",
     "output_type": "stream",
     "text": [
      "<class 'pandas.core.frame.DataFrame'>\n",
      "RangeIndex: 4024 entries, 0 to 4023\n",
      "Data columns (total 15 columns):\n",
      " #   Column                  Non-Null Count  Dtype \n",
      "---  ------                  --------------  ----- \n",
      " 0   Age                     4024 non-null   int64 \n",
      " 1   Race                    4024 non-null   object\n",
      " 2   Marital Status          4024 non-null   object\n",
      " 3   T Stage                 4024 non-null   object\n",
      " 4   N Stage                 4024 non-null   object\n",
      " 5   6th Stage               4024 non-null   object\n",
      " 6   Grade                   4024 non-null   object\n",
      " 7   A Stage                 4024 non-null   object\n",
      " 8   Tumor Size              4024 non-null   int64 \n",
      " 9   Estrogen Status         4024 non-null   object\n",
      " 10  Progesterone Status     4024 non-null   object\n",
      " 11  Regional Node Examined  4024 non-null   int64 \n",
      " 12  Reginol Node Positive   4024 non-null   int64 \n",
      " 13  Survival Months         4024 non-null   int64 \n",
      " 14  Status                  4024 non-null   object\n",
      "dtypes: int64(5), object(10)\n",
      "memory usage: 471.7+ KB\n",
      "column name: 'Race'\n",
      " number of values: 3'\n",
      " The values are ['Other (American Indian/AK Native, Asian/Pacific Islander)' 'White'\n",
      " 'Black']\n",
      "----------------------------------\n",
      "column name: 'Marital Status'\n",
      " number of values: 5'\n",
      " The values are ['Married (including common law)' 'Divorced' 'Single (never married)'\n",
      " 'Widowed' 'Separated']\n",
      "----------------------------------\n",
      "column name: 'T Stage'\n",
      " number of values: 4'\n",
      " The values are ['T2' 'T1' 'T3' 'T4']\n",
      "----------------------------------\n",
      "column name: 'N Stage'\n",
      " number of values: 3'\n",
      " The values are ['N3' 'N2' 'N1']\n",
      "----------------------------------\n",
      "column name: '6th Stage'\n",
      " number of values: 5'\n",
      " The values are ['IIIC' 'IIIA' 'IIB' 'IIA' 'IIIB']\n",
      "----------------------------------\n",
      "column name: 'Grade'\n",
      " number of values: 4'\n",
      " The values are ['Moderately differentiated; Grade II' 'Poorly differentiated; Grade III'\n",
      " 'Well differentiated; Grade I' 'Undifferentiated; anaplastic; Grade IV']\n",
      "----------------------------------\n",
      "column name: 'A Stage'\n",
      " number of values: 2'\n",
      " The values are ['Regional' 'Distant']\n",
      "----------------------------------\n",
      "column name: 'Estrogen Status'\n",
      " number of values: 2'\n",
      " The values are ['Positive' 'Negative']\n",
      "----------------------------------\n",
      "column name: 'Progesterone Status'\n",
      " number of values: 2'\n",
      " The values are ['Positive' 'Negative']\n",
      "----------------------------------\n",
      "column name: 'Status'\n",
      " number of values: 2'\n",
      " The values are ['Alive' 'Dead']\n",
      "----------------------------------\n",
      "X_train: (1971, 20)\n",
      "y_train: (1971,)\n",
      "-------------------------\n",
      "X_val: (845, 20)\n",
      "y_val: (845,)\n",
      "-------------------------\n",
      "X_test: (1208, 20)\n",
      "y_test: (1208,)\n"
     ]
    }
   ],
   "source": [
    "from preprocessing import *\n",
    "from sklearn.metrics import confusion_matrix\n",
    "import seaborn as sns\n",
    "import matplotlib.pyplot as plt"
   ]
  },
  {
   "cell_type": "markdown",
   "id": "3e3ebaf8",
   "metadata": {},
   "source": [
    "# Naive Bayes\n",
    "\n",
    "# Model 1: Gaussian Naive Bayes\n",
    "\n",
    "## Implements the Gaussian Naive Bayes algorithm for classification"
   ]
  },
  {
   "cell_type": "code",
   "execution_count": 2,
   "id": "89b9e28e",
   "metadata": {},
   "outputs": [
    {
     "name": "stdout",
     "output_type": "stream",
     "text": [
      "0.7055016181229773\n",
      "0.7479289940828402\n"
     ]
    }
   ],
   "source": [
    "from sklearn.naive_bayes import GaussianNB\n",
    "\n",
    "model1 = GaussianNB()\n",
    "model1.fit(X_train_balanced, y_train_balanced)\n",
    "\n",
    "#Calculating Details\n",
    "\n",
    "acc_train1 = model1.score(X_train_balanced, y_train_balanced)\n",
    "acc_val1 = model1.score(X_val, y_val)\n",
    "print(acc_train1)\n",
    "print(acc_val1)"
   ]
  },
  {
   "cell_type": "code",
   "execution_count": 3,
   "id": "91613101",
   "metadata": {},
   "outputs": [
    {
     "name": "stdout",
     "output_type": "stream",
     "text": [
      "Predicted Value for MultinomialNBModel is :  [1 1 0 1 0 1 1 1 0 1]\n",
      "Prediction Probabilities Value for MultinomialNBModel is :  [[1.39032590e-03 9.98609674e-01]\n",
      " [1.07389278e-03 9.98926107e-01]\n",
      " [1.00000000e+00 1.23413466e-13]\n",
      " [5.88837784e-03 9.94111622e-01]\n",
      " [9.99998913e-01 1.08670056e-06]\n",
      " [4.45660589e-04 9.99554339e-01]\n",
      " [5.24086401e-04 9.99475914e-01]\n",
      " [1.52153261e-03 9.98478467e-01]\n",
      " [5.59441275e-01 4.40558725e-01]\n",
      " [2.35709895e-03 9.97642901e-01]]\n"
     ]
    }
   ],
   "source": [
    "#Calculating Prediction\n",
    "\n",
    "y_pred = model1.predict(X_test)\n",
    "y_pred_prob = model1.predict_proba(X_test)\n",
    "print('Predicted Value for MultinomialNBModel is : ' , y_pred[:10])\n",
    "print('Prediction Probabilities Value for MultinomialNBModel is : ' , y_pred_prob[:10])"
   ]
  },
  {
   "cell_type": "code",
   "execution_count": 4,
   "id": "2daed411",
   "metadata": {},
   "outputs": [
    {
     "name": "stdout",
     "output_type": "stream",
     "text": [
      "Confusion Matrix is : \n",
      " [[100  81]\n",
      " [185 842]]\n"
     ]
    },
    {
     "data": {
      "image/png": "[encoded data removed]",
      "text/plain": [
       "<Figure size 432x288 with 2 Axes>"
      ]
     },
     "metadata": {
      "needs_background": "light"
     },
     "output_type": "display_data"
    }
   ],
   "source": [
    "#Calculating Confusion Matrix\n",
    "\n",
    "\n",
    "CM = confusion_matrix(y_test, y_pred)\n",
    "print('Confusion Matrix is : \\n', CM)\n",
    "\n",
    "# drawing confusion matrix\n",
    "sns.heatmap(CM, center = True)\n",
    "plt.show()"
   ]
  },
  {
   "cell_type": "markdown",
   "id": "2ce60a02",
   "metadata": {},
   "source": [
    "# Model 2: Multinomial Naive Bayes\n",
    "\n",
    "## For classification with discrete features"
   ]
  },
  {
   "cell_type": "code",
   "execution_count": 5,
   "id": "edd84d5c",
   "metadata": {},
   "outputs": [
    {
     "name": "stdout",
     "output_type": "stream",
     "text": [
      "0.7572815533980582\n",
      "0.7715976331360946\n"
     ]
    }
   ],
   "source": [
    "from sklearn.naive_bayes import MultinomialNB\n",
    "\n",
    "model2 = MultinomialNB(alpha=1.0)\n",
    "\n",
    "model2.fit(X_train_balanced, y_train_balanced)\n",
    "\n",
    "#Calculating Details\n",
    "\n",
    "acc_train2 = model2.score(X_train_balanced, y_train_balanced)\n",
    "acc_val2 = model2.score(X_val, y_val)\n",
    "print(acc_train2)\n",
    "print(acc_val2)"
   ]
  },
  {
   "cell_type": "code",
   "execution_count": 6,
   "id": "6a3a62a1",
   "metadata": {},
   "outputs": [
    {
     "name": "stdout",
     "output_type": "stream",
     "text": [
      "Predicted Value for MultinomialNBModel is :  [1 1 1 1 0 1 1 1 1 1]\n",
      "Prediction Probabilities Value for MultinomialNBModel is :  [[1.77091541e-04 9.99822908e-01]\n",
      " [1.00468512e-09 9.99999999e-01]\n",
      " [1.59626536e-06 9.99998404e-01]\n",
      " [1.54401458e-06 9.99998456e-01]\n",
      " [1.00000000e+00 9.03883088e-11]\n",
      " [4.35279131e-09 9.99999996e-01]\n",
      " [3.88993068e-07 9.99999611e-01]\n",
      " [1.38710776e-09 9.99999999e-01]\n",
      " [6.82135253e-05 9.99931786e-01]\n",
      " [2.81806155e-10 1.00000000e+00]]\n"
     ]
    }
   ],
   "source": [
    "#Calculating Prediction\n",
    "\n",
    "y_pred = model2.predict(X_test)\n",
    "y_pred_prob = model2.predict_proba(X_test)\n",
    "print('Predicted Value for MultinomialNBModel is : ' , y_pred[:10])\n",
    "print('Prediction Probabilities Value for MultinomialNBModel is : ' , y_pred_prob[:10])"
   ]
  },
  {
   "cell_type": "code",
   "execution_count": 7,
   "id": "996471e2",
   "metadata": {},
   "outputs": [
    {
     "name": "stdout",
     "output_type": "stream",
     "text": [
      "Confusion Matrix is : \n",
      " [[127  54]\n",
      " [203 824]]\n"
     ]
    },
    {
     "data": {
      "image/png": "[encoded data removed]",
      "text/plain": [
       "<Figure size 432x288 with 2 Axes>"
      ]
     },
     "metadata": {
      "needs_background": "light"
     },
     "output_type": "display_data"
    }
   ],
   "source": [
    "#Calculating Confusion Matrix\n",
    "\n",
    "CM = confusion_matrix(y_test, y_pred)\n",
    "print('Confusion Matrix is : \\n', CM)\n",
    "\n",
    "# drawing confusion matrix\n",
    "sns.heatmap(CM, center = True)\n",
    "plt.show()"
   ]
  },
  {
   "cell_type": "markdown",
   "id": "03d50cde",
   "metadata": {},
   "source": [
    "# Model 3: Bernoulli Naive Bayes\n",
    "\n",
    "## For data that is distributed according to multivariate Bernoulli distributions"
   ]
  },
  {
   "cell_type": "code",
   "execution_count": 8,
   "id": "84c9501b",
   "metadata": {},
   "outputs": [
    {
     "name": "stdout",
     "output_type": "stream",
     "text": [
      "0.63915857605178\n",
      "0.58698224852071\n"
     ]
    }
   ],
   "source": [
    "#Import Libraries\n",
    "from sklearn.naive_bayes import BernoulliNB\n",
    "\n",
    "model3 = BernoulliNB(alpha=1.0,binarize=1)\n",
    "model3.fit(X_train_balanced, y_train_balanced)\n",
    "\n",
    "#Calculating Details\n",
    "\n",
    "acc_train3 = model3.score(X_train_balanced, y_train_balanced)\n",
    "acc_val3 = model3.score(X_val, y_val)\n",
    "print(acc_train3)\n",
    "print(acc_val3)"
   ]
  },
  {
   "cell_type": "code",
   "execution_count": 9,
   "id": "e9549aeb",
   "metadata": {},
   "outputs": [
    {
     "name": "stdout",
     "output_type": "stream",
     "text": [
      "Predicted Value for MultinomialNBModel is :  [0 1 1 1 0 1 0 1 0 0]\n",
      "Prediction Probabilities Value for MultinomialNBModel is :  [[0.61077903 0.38922097]\n",
      " [0.09639444 0.90360556]\n",
      " [0.09639444 0.90360556]\n",
      " [0.3657406  0.6342594 ]\n",
      " [0.83070906 0.16929094]\n",
      " [0.09639444 0.90360556]\n",
      " [0.61077903 0.38922097]\n",
      " [0.03996351 0.96003649]\n",
      " [0.83070906 0.16929094]\n",
      " [0.61077903 0.38922097]]\n"
     ]
    }
   ],
   "source": [
    "#Calculating Prediction\n",
    "\n",
    "y_pred = model3.predict(X_test)\n",
    "y_pred_prob = model3.predict_proba(X_test)\n",
    "print('Predicted Value for MultinomialNBModel is : ' , y_pred[:10])\n",
    "print('Prediction Probabilities Value for MultinomialNBModel is : ' , y_pred_prob[:10])"
   ]
  },
  {
   "cell_type": "code",
   "execution_count": 10,
   "id": "c7a9f759",
   "metadata": {},
   "outputs": [
    {
     "name": "stdout",
     "output_type": "stream",
     "text": [
      "Confusion Matrix is : \n",
      " [[121  60]\n",
      " [448 579]]\n"
     ]
    },
    {
     "data": {
      "image/png": "[encoded data removed]",
      "text/plain": [
       "<Figure size 432x288 with 2 Axes>"
      ]
     },
     "metadata": {
      "needs_background": "light"
     },
     "output_type": "display_data"
    }
   ],
   "source": [
    "#Calculating Confusion Matrix\n",
    "\n",
    "CM = confusion_matrix(y_test, y_pred)\n",
    "print('Confusion Matrix is : \\n', CM)\n",
    "\n",
    "# drawing confusion matrix\n",
    "sns.heatmap(CM, center = True)\n",
    "plt.show()"
   ]
  },
  {
   "cell_type": "markdown",
   "id": "d880a24c",
   "metadata": {},
   "source": [
    "# Model 4: Complement Naive Bayes\n",
    "\n",
    "## Deal with data that is imbalanced"
   ]
  },
  {
   "cell_type": "code",
   "execution_count": 11,
   "id": "ee78a5d7",
   "metadata": {},
   "outputs": [
    {
     "name": "stdout",
     "output_type": "stream",
     "text": [
      "0.6229773462783171\n",
      "0.7124260355029586\n"
     ]
    }
   ],
   "source": [
    "from sklearn.naive_bayes import ComplementNB\n",
    "\n",
    "model4 = BernoulliNB(alpha=1.0)\n",
    "model4.fit(X_train_balanced, y_train_balanced)\n",
    "\n",
    "#Calculating Details\n",
    "\n",
    "acc_train4 = model4.score(X_train_balanced, y_train_balanced)\n",
    "acc_val4 = model4.score(X_val, y_val)\n",
    "print(acc_train4)\n",
    "print(acc_val4)"
   ]
  },
  {
   "cell_type": "code",
   "execution_count": 12,
   "id": "8b218b6b",
   "metadata": {},
   "outputs": [
    {
     "name": "stdout",
     "output_type": "stream",
     "text": [
      "Predicted Value for MultinomialNBModel is :  [1 1 0 1 0 1 1 1 0 1]\n",
      "Prediction Probabilities Value for MultinomialNBModel is :  [[0.25398039 0.74601961]\n",
      " [0.46605355 0.53394645]\n",
      " [0.57826961 0.42173039]\n",
      " [0.48125746 0.51874254]\n",
      " [0.80568318 0.19431682]\n",
      " [0.25398039 0.74601961]\n",
      " [0.25398039 0.74601961]\n",
      " [0.48125746 0.51874254]\n",
      " [0.60145773 0.39854227]\n",
      " [0.46605355 0.53394645]]\n"
     ]
    }
   ],
   "source": [
    "#Calculating Prediction\n",
    "\n",
    "y_pred = model4.predict(X_test)\n",
    "y_pred_prob = model4.predict_proba(X_test)\n",
    "print('Predicted Value for MultinomialNBModel is : ' , y_pred[:10])\n",
    "print('Prediction Probabilities Value for MultinomialNBModel is : ' , y_pred_prob[:10])"
   ]
  },
  {
   "cell_type": "code",
   "execution_count": 13,
   "id": "46554d20",
   "metadata": {},
   "outputs": [
    {
     "name": "stdout",
     "output_type": "stream",
     "text": [
      "Confusion Matrix is : \n",
      " [[ 66 115]\n",
      " [238 789]]\n"
     ]
    },
    {
     "data": {
      "image/png": "[encoded data removed]",
      "text/plain": [
       "<Figure size 432x288 with 2 Axes>"
      ]
     },
     "metadata": {
      "needs_background": "light"
     },
     "output_type": "display_data"
    }
   ],
   "source": [
    "#Calculating Confusion Matrix\n",
    "\n",
    "CM = confusion_matrix(y_test, y_pred)\n",
    "print('Confusion Matrix is : \\n', CM)\n",
    "\n",
    "# drawing confusion matrix\n",
    "sns.heatmap(CM, center = True)\n",
    "plt.show()"
   ]
  },
  {
   "cell_type": "markdown",
   "id": "c3d9f695",
   "metadata": {},
   "source": [
    "# Comparison of results \n"
   ]
  },
  {
   "cell_type": "code",
   "execution_count": 14,
   "id": "de2baa13",
   "metadata": {},
   "outputs": [
    {
     "data": {
      "text/html": [
       "<div>\n",
       "<style scoped>\n",
       "    .dataframe tbody tr th:only-of-type {\n",
       "        vertical-align: middle;\n",
       "    }\n",
       "\n",
       "    .dataframe tbody tr th {\n",
       "        vertical-align: top;\n",
       "    }\n",
       "\n",
       "    .dataframe thead th {\n",
       "        text-align: right;\n",
       "    }\n",
       "</style>\n",
       "<table border=\"1\" class=\"dataframe\">\n",
       "  <thead>\n",
       "    <tr style=\"text-align: right;\">\n",
       "      <th></th>\n",
       "      <th>model</th>\n",
       "      <th>acc_train</th>\n",
       "      <th>acc_val</th>\n",
       "    </tr>\n",
       "  </thead>\n",
       "  <tbody>\n",
       "    <tr>\n",
       "      <th>0</th>\n",
       "      <td>GaussianNB</td>\n",
       "      <td>0.705502</td>\n",
       "      <td>0.747929</td>\n",
       "    </tr>\n",
       "    <tr>\n",
       "      <th>1</th>\n",
       "      <td>ComplementNB</td>\n",
       "      <td>0.757282</td>\n",
       "      <td>0.771598</td>\n",
       "    </tr>\n",
       "    <tr>\n",
       "      <th>2</th>\n",
       "      <td>BernoulliNB</td>\n",
       "      <td>0.639159</td>\n",
       "      <td>0.586982</td>\n",
       "    </tr>\n",
       "    <tr>\n",
       "      <th>3</th>\n",
       "      <td>MultinomialNB</td>\n",
       "      <td>0.622977</td>\n",
       "      <td>0.712426</td>\n",
       "    </tr>\n",
       "  </tbody>\n",
       "</table>\n",
       "</div>"
      ],
      "text/plain": [
       "           model  acc_train   acc_val\n",
       "0     GaussianNB   0.705502  0.747929\n",
       "1   ComplementNB   0.757282  0.771598\n",
       "2    BernoulliNB   0.639159  0.586982\n",
       "3  MultinomialNB   0.622977  0.712426"
      ]
     },
     "execution_count": 14,
     "metadata": {},
     "output_type": "execute_result"
    }
   ],
   "source": [
    "results = pd.DataFrame({\n",
    "    'model': ['GaussianNB', 'ComplementNB', 'BernoulliNB', 'MultinomialNB'],\n",
    "    'acc_train': [acc_train1, acc_train2, acc_train3, acc_train4],\n",
    "    'acc_val': [acc_val1, acc_val2, acc_val3, acc_val4],\n",
    "})\n",
    "\n",
    "results"
   ]
  },
  {
   "cell_type": "code",
   "execution_count": 15,
   "id": "841d0bae",
   "metadata": {},
   "outputs": [
    {
     "data": {
      "text/plain": [
       "<AxesSubplot:xlabel='model'>"
      ]
     },
     "execution_count": 15,
     "metadata": {},
     "output_type": "execute_result"
    },
    {
     "data": {
      "image/png": "[encoded data removed]",
      "text/plain": [
       "<Figure size 432x288 with 1 Axes>"
      ]
     },
     "metadata": {
      "needs_background": "light"
     },
     "output_type": "display_data"
    }
   ],
   "source": [
    "results.plot.bar(x='model', y=['acc_train', 'acc_val'])\n"
   ]
  },
  {
   "cell_type": "markdown",
   "id": "b088093c",
   "metadata": {},
   "source": [
    "# Testing best model"
   ]
  },
  {
   "cell_type": "code",
   "execution_count": 16,
   "id": "8ed59306",
   "metadata": {},
   "outputs": [
    {
     "name": "stdout",
     "output_type": "stream",
     "text": [
      "0.7955298013245033\n"
     ]
    }
   ],
   "source": [
    "from sklearn.metrics import accuracy_score\n",
    "\n",
    "model_best = ComplementNB()\n",
    "model_best.fit(X_train, y_train)\n",
    "y_pred_test = model_best.predict(X_test)\n",
    "print(accuracy_score(y_test, y_pred_test))"
   ]
  },
  {
   "cell_type": "code",
   "execution_count": null,
   "id": "a09dc39b",
   "metadata": {},
   "outputs": [],
   "source": []
  }
 ],
 "metadata": {
  "kernelspec": {
   "display_name": "Python 3",
   "language": "python",
   "name": "python3"
  },
  "language_info": {
   "codemirror_mode": {
    "name": "ipython",
    "version": 3
   },
   "file_extension": ".py",
   "mimetype": "text/x-python",
   "name": "python",
   "nbconvert_exporter": "python",
   "pygments_lexer": "ipython3",
   "version": "3.8.8"
  }
 },
 "nbformat": 4,
 "nbformat_minor": 5
}
