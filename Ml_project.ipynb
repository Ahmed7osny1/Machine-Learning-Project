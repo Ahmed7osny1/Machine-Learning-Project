{
 "cells": [
  {
   "cell_type": "markdown",
   "id": "054c1b0a",
   "metadata": {},
   "source": [
    "# Reading dataset"
   ]
  },
  {
   "cell_type": "code",
   "execution_count": 1,
   "id": "a6f778ac",
   "metadata": {},
   "outputs": [],
   "source": [
    "import pandas as pd"
   ]
  },
  {
   "cell_type": "code",
   "execution_count": 2,
   "id": "8ba65cfd",
   "metadata": {},
   "outputs": [
    {
     "data": {
      "text/html": [
       "<div>\n",
       "<style scoped>\n",
       "    .dataframe tbody tr th:only-of-type {\n",
       "        vertical-align: middle;\n",
       "    }\n",
       "\n",
       "    .dataframe tbody tr th {\n",
       "        vertical-align: top;\n",
       "    }\n",
       "\n",
       "    .dataframe thead th {\n",
       "        text-align: right;\n",
       "    }\n",
       "</style>\n",
       "<table border=\"1\" class=\"dataframe\">\n",
       "  <thead>\n",
       "    <tr style=\"text-align: right;\">\n",
       "      <th></th>\n",
       "      <th>Age</th>\n",
       "      <th>Race</th>\n",
       "      <th>Marital Status</th>\n",
       "      <th>T Stage</th>\n",
       "      <th>N Stage</th>\n",
       "      <th>6th Stage</th>\n",
       "      <th>Grade</th>\n",
       "      <th>A Stage</th>\n",
       "      <th>Tumor Size</th>\n",
       "      <th>Estrogen Status</th>\n",
       "      <th>Progesterone Status</th>\n",
       "      <th>Regional Node Examined</th>\n",
       "      <th>Reginol Node Positive</th>\n",
       "      <th>Survival Months</th>\n",
       "      <th>Status</th>\n",
       "    </tr>\n",
       "  </thead>\n",
       "  <tbody>\n",
       "    <tr>\n",
       "      <th>0</th>\n",
       "      <td>43</td>\n",
       "      <td>Other (American Indian/AK Native, Asian/Pacifi...</td>\n",
       "      <td>Married (including common law)</td>\n",
       "      <td>T2</td>\n",
       "      <td>N3</td>\n",
       "      <td>IIIC</td>\n",
       "      <td>Moderately differentiated; Grade II</td>\n",
       "      <td>Regional</td>\n",
       "      <td>40</td>\n",
       "      <td>Positive</td>\n",
       "      <td>Positive</td>\n",
       "      <td>19</td>\n",
       "      <td>11</td>\n",
       "      <td>1</td>\n",
       "      <td>Alive</td>\n",
       "    </tr>\n",
       "    <tr>\n",
       "      <th>1</th>\n",
       "      <td>47</td>\n",
       "      <td>Other (American Indian/AK Native, Asian/Pacifi...</td>\n",
       "      <td>Married (including common law)</td>\n",
       "      <td>T2</td>\n",
       "      <td>N2</td>\n",
       "      <td>IIIA</td>\n",
       "      <td>Moderately differentiated; Grade II</td>\n",
       "      <td>Regional</td>\n",
       "      <td>45</td>\n",
       "      <td>Positive</td>\n",
       "      <td>Positive</td>\n",
       "      <td>25</td>\n",
       "      <td>9</td>\n",
       "      <td>2</td>\n",
       "      <td>Alive</td>\n",
       "    </tr>\n",
       "    <tr>\n",
       "      <th>2</th>\n",
       "      <td>67</td>\n",
       "      <td>White</td>\n",
       "      <td>Married (including common law)</td>\n",
       "      <td>T2</td>\n",
       "      <td>N1</td>\n",
       "      <td>IIB</td>\n",
       "      <td>Poorly differentiated; Grade III</td>\n",
       "      <td>Regional</td>\n",
       "      <td>25</td>\n",
       "      <td>Positive</td>\n",
       "      <td>Positive</td>\n",
       "      <td>4</td>\n",
       "      <td>1</td>\n",
       "      <td>2</td>\n",
       "      <td>Dead</td>\n",
       "    </tr>\n",
       "    <tr>\n",
       "      <th>3</th>\n",
       "      <td>46</td>\n",
       "      <td>White</td>\n",
       "      <td>Divorced</td>\n",
       "      <td>T1</td>\n",
       "      <td>N1</td>\n",
       "      <td>IIA</td>\n",
       "      <td>Moderately differentiated; Grade II</td>\n",
       "      <td>Regional</td>\n",
       "      <td>19</td>\n",
       "      <td>Positive</td>\n",
       "      <td>Positive</td>\n",
       "      <td>26</td>\n",
       "      <td>1</td>\n",
       "      <td>2</td>\n",
       "      <td>Dead</td>\n",
       "    </tr>\n",
       "    <tr>\n",
       "      <th>4</th>\n",
       "      <td>63</td>\n",
       "      <td>White</td>\n",
       "      <td>Married (including common law)</td>\n",
       "      <td>T2</td>\n",
       "      <td>N2</td>\n",
       "      <td>IIIA</td>\n",
       "      <td>Moderately differentiated; Grade II</td>\n",
       "      <td>Regional</td>\n",
       "      <td>35</td>\n",
       "      <td>Positive</td>\n",
       "      <td>Positive</td>\n",
       "      <td>21</td>\n",
       "      <td>5</td>\n",
       "      <td>3</td>\n",
       "      <td>Dead</td>\n",
       "    </tr>\n",
       "  </tbody>\n",
       "</table>\n",
       "</div>"
      ],
      "text/plain": [
       "   Age                                               Race  \\\n",
       "0   43  Other (American Indian/AK Native, Asian/Pacifi...   \n",
       "1   47  Other (American Indian/AK Native, Asian/Pacifi...   \n",
       "2   67                                              White   \n",
       "3   46                                              White   \n",
       "4   63                                              White   \n",
       "\n",
       "                   Marital Status T Stage N Stage 6th Stage  \\\n",
       "0  Married (including common law)      T2      N3      IIIC   \n",
       "1  Married (including common law)      T2      N2      IIIA   \n",
       "2  Married (including common law)      T2      N1       IIB   \n",
       "3                        Divorced      T1      N1       IIA   \n",
       "4  Married (including common law)      T2      N2      IIIA   \n",
       "\n",
       "                                 Grade   A Stage  Tumor Size Estrogen Status  \\\n",
       "0  Moderately differentiated; Grade II  Regional          40        Positive   \n",
       "1  Moderately differentiated; Grade II  Regional          45        Positive   \n",
       "2     Poorly differentiated; Grade III  Regional          25        Positive   \n",
       "3  Moderately differentiated; Grade II  Regional          19        Positive   \n",
       "4  Moderately differentiated; Grade II  Regional          35        Positive   \n",
       "\n",
       "  Progesterone Status  Regional Node Examined  Reginol Node Positive  \\\n",
       "0            Positive                      19                     11   \n",
       "1            Positive                      25                      9   \n",
       "2            Positive                       4                      1   \n",
       "3            Positive                      26                      1   \n",
       "4            Positive                      21                      5   \n",
       "\n",
       "   Survival Months Status  \n",
       "0                1  Alive  \n",
       "1                2  Alive  \n",
       "2                2   Dead  \n",
       "3                2   Dead  \n",
       "4                3   Dead  "
      ]
     },
     "execution_count": 2,
     "metadata": {},
     "output_type": "execute_result"
    }
   ],
   "source": [
    "# reading from csv file using pandas\n",
    "data = pd.read_csv('dataset/set.csv')\n",
    "\n",
    "# display first 5 rows from dataset\n",
    "data.head()"
   ]
  },
  {
   "cell_type": "markdown",
   "id": "74ddd76f",
   "metadata": {},
   "source": [
    "# Checking for missing/null values"
   ]
  },
  {
   "cell_type": "code",
   "execution_count": 3,
   "id": "2ffc60f7",
   "metadata": {},
   "outputs": [
    {
     "name": "stdout",
     "output_type": "stream",
     "text": [
      "<class 'pandas.core.frame.DataFrame'>\n",
      "RangeIndex: 4024 entries, 0 to 4023\n",
      "Data columns (total 15 columns):\n",
      " #   Column                  Non-Null Count  Dtype \n",
      "---  ------                  --------------  ----- \n",
      " 0   Age                     4024 non-null   int64 \n",
      " 1   Race                    4024 non-null   object\n",
      " 2   Marital Status          4024 non-null   object\n",
      " 3   T Stage                 4024 non-null   object\n",
      " 4   N Stage                 4024 non-null   object\n",
      " 5   6th Stage               4024 non-null   object\n",
      " 6   Grade                   4024 non-null   object\n",
      " 7   A Stage                 4024 non-null   object\n",
      " 8   Tumor Size              4024 non-null   int64 \n",
      " 9   Estrogen Status         4024 non-null   object\n",
      " 10  Progesterone Status     4024 non-null   object\n",
      " 11  Regional Node Examined  4024 non-null   int64 \n",
      " 12  Reginol Node Positive   4024 non-null   int64 \n",
      " 13  Survival Months         4024 non-null   int64 \n",
      " 14  Status                  4024 non-null   object\n",
      "dtypes: int64(5), object(10)\n",
      "memory usage: 471.7+ KB\n"
     ]
    }
   ],
   "source": [
    "# Print information about a dataset including the index dtype and columns, non-null values and memory usage.\n",
    "data.info()"
   ]
  },
  {
   "cell_type": "code",
   "execution_count": 4,
   "id": "9adf6bd4",
   "metadata": {},
   "outputs": [
    {
     "data": {
      "text/plain": [
       "Age                       0\n",
       "Race                      0\n",
       "Marital Status            0\n",
       "T Stage                   0\n",
       "N Stage                   0\n",
       "6th Stage                 0\n",
       "Grade                     0\n",
       "A Stage                   0\n",
       "Tumor Size                0\n",
       "Estrogen Status           0\n",
       "Progesterone Status       0\n",
       "Regional Node Examined    0\n",
       "Reginol Node Positive     0\n",
       "Survival Months           0\n",
       "Status                    0\n",
       "dtype: int64"
      ]
     },
     "execution_count": 4,
     "metadata": {},
     "output_type": "execute_result"
    }
   ],
   "source": [
    "# display number of null values in every column\n",
    "data.isnull().sum(axis=0)"
   ]
  },
  {
   "cell_type": "markdown",
   "id": "0d94d1c6",
   "metadata": {},
   "source": [
    "<strong> There is not any null or missing values </strong>"
   ]
  },
  {
   "cell_type": "markdown",
   "id": "d4ec2188",
   "metadata": {},
   "source": [
    "# Encoding of non-numeric values (look at: section 4)\n",
    "We need to convert non-numeric values to numeric values. But first, we need to understand the type of each non-numeric column. There are mainly 3 types:\n",
    "1. Binary: The column contains only 2 types of values (example: married: yes/no).\n",
    "2. Nominal: The column contains more than 2 types of values; The values can't have a specific order (example: country: Egypt/France/UK).\n",
    "3. Ordinal: The column contains more than 2 types of values; The values have a specific order (example: size: small/medium/large).\n",
    "\n",
    "To determine the type of each non-numeric column, we need to know what unique values does each column contain"
   ]
  },
  {
   "cell_type": "code",
   "execution_count": 5,
   "id": "30dc852d",
   "metadata": {},
   "outputs": [
    {
     "name": "stdout",
     "output_type": "stream",
     "text": [
      "column name: 'Race'\n",
      " number of values: 3'\n",
      " The values are ['Other (American Indian/AK Native, Asian/Pacific Islander)' 'White'\n",
      " 'Black']\n",
      "----------------------------------\n",
      "column name: 'Marital Status'\n",
      " number of values: 5'\n",
      " The values are ['Married (including common law)' 'Divorced' 'Single (never married)'\n",
      " 'Widowed' 'Separated']\n",
      "----------------------------------\n",
      "column name: 'T Stage'\n",
      " number of values: 4'\n",
      " The values are ['T2' 'T1' 'T3' 'T4']\n",
      "----------------------------------\n",
      "column name: 'N Stage'\n",
      " number of values: 3'\n",
      " The values are ['N3' 'N2' 'N1']\n",
      "----------------------------------\n",
      "column name: '6th Stage'\n",
      " number of values: 5'\n",
      " The values are ['IIIC' 'IIIA' 'IIB' 'IIA' 'IIIB']\n",
      "----------------------------------\n",
      "column name: 'Grade'\n",
      " number of values: 4'\n",
      " The values are ['Moderately differentiated; Grade II' 'Poorly differentiated; Grade III'\n",
      " 'Well differentiated; Grade I' 'Undifferentiated; anaplastic; Grade IV']\n",
      "----------------------------------\n",
      "column name: 'A Stage'\n",
      " number of values: 2'\n",
      " The values are ['Regional' 'Distant']\n",
      "----------------------------------\n",
      "column name: 'Estrogen Status'\n",
      " number of values: 2'\n",
      " The values are ['Positive' 'Negative']\n",
      "----------------------------------\n",
      "column name: 'Progesterone Status'\n",
      " number of values: 2'\n",
      " The values are ['Positive' 'Negative']\n",
      "----------------------------------\n",
      "column name: 'Status'\n",
      " number of values: 2'\n",
      " The values are ['Alive' 'Dead']\n",
      "----------------------------------\n"
     ]
    }
   ],
   "source": [
    "# display each of these columns with both number of unique values of them and these uniques values\n",
    "# better to be at the form of Dataframe\n",
    "for col in ['Race','Marital Status','T Stage', 'N Stage','6th Stage','Grade','A Stage',\n",
    "           'Estrogen Status','Progesterone Status','Status']:\n",
    "    print(\"column name: '\"+ col +\"'\\n\", \"number of values: \" +  str(len(data[col].unique())) + \"'\\n\", \"The values are\", \n",
    "          data[col].unique())\n",
    "    print(\"----------------------------------\")\n"
   ]
  },
  {
   "cell_type": "markdown",
   "id": "dce3c4bf",
   "metadata": {},
   "source": [
    "1. The columns <code>A Stage</code>, <code>Estrogen Status</code>, <code>Progesterone Status</code> and <code>Status</code> are binary properties <br/><br/>\n",
    "2. The columns <code>T Stage</code>, <code>N Stage</code>, <code>6th Stage</code> and <code>Grade</code>  are ordinal (categorical) properties <br/><br/>\n",
    "3. The columns <code>Race</code> and <code>Marital Status</code> are nominal (categorical) properties <br/><br/>\n",
    "\n"
   ]
  },
  {
   "cell_type": "markdown",
   "id": "8b81022a",
   "metadata": {},
   "source": [
    "## Binary-Encoded "
   ]
  },
  {
   "cell_type": "code",
   "execution_count": 6,
   "id": "e2171268",
   "metadata": {},
   "outputs": [],
   "source": [
    "data_binary_encoded = data.replace({\n",
    "    'A Stage': {'Regional': 1, 'Distant': 0},\n",
    "    'Estrogen Status': {'Positive': 1, 'Negative': 0},\n",
    "    'Progesterone Status' : {'Positive': 1 ,'Negative':0},\n",
    "    'Status' : {'Alive': 1,'Dead':0}\n",
    "})"
   ]
  },
  {
   "cell_type": "markdown",
   "id": "d1f63247",
   "metadata": {},
   "source": [
    "## Ordinal-Encoding"
   ]
  },
  {
   "cell_type": "code",
   "execution_count": 7,
   "id": "598b9221",
   "metadata": {},
   "outputs": [],
   "source": [
    "data_ordinal_binary_encoded = data_binary_encoded.replace({\n",
    "    'T Stage': {'T1': 1,'T2': 2,'T3':3,'T4':4},\n",
    "    'N Stage': {'N1': 1,'N2': 2,'N3':3},\n",
    "    '6th Stage': {'IIA': 1,'IIB': 2,'IIIA':3,'IIIB':4,'IIIC':5},\n",
    "    'Grade' : {'Well differentiated; Grade I': 1,'Moderately differentiated; Grade II': 2,\n",
    "              'Poorly differentiated; Grade III':3,'Undifferentiated; anaplastic; Grade IV':4}\n",
    "})"
   ]
  },
  {
   "cell_type": "markdown",
   "id": "28376511",
   "metadata": {},
   "source": [
    "## nominal encoding (one hot encoding)\n",
    "Then we use <code>pd.get_dummies()</code> to convert the other non-numeric columns to one-hot encoding"
   ]
  },
  {
   "cell_type": "code",
   "execution_count": 8,
   "id": "e0246ffc",
   "metadata": {
    "scrolled": true
   },
   "outputs": [
    {
     "data": {
      "text/html": [
       "<div>\n",
       "<style scoped>\n",
       "    .dataframe tbody tr th:only-of-type {\n",
       "        vertical-align: middle;\n",
       "    }\n",
       "\n",
       "    .dataframe tbody tr th {\n",
       "        vertical-align: top;\n",
       "    }\n",
       "\n",
       "    .dataframe thead th {\n",
       "        text-align: right;\n",
       "    }\n",
       "</style>\n",
       "<table border=\"1\" class=\"dataframe\">\n",
       "  <thead>\n",
       "    <tr style=\"text-align: right;\">\n",
       "      <th></th>\n",
       "      <th>Age</th>\n",
       "      <th>T Stage</th>\n",
       "      <th>N Stage</th>\n",
       "      <th>6th Stage</th>\n",
       "      <th>Grade</th>\n",
       "      <th>A Stage</th>\n",
       "      <th>Tumor Size</th>\n",
       "      <th>Estrogen Status</th>\n",
       "      <th>Progesterone Status</th>\n",
       "      <th>Regional Node Examined</th>\n",
       "      <th>...</th>\n",
       "      <th>Survival Months</th>\n",
       "      <th>Status</th>\n",
       "      <th>Race_Black</th>\n",
       "      <th>Race_Other (American Indian/AK Native, Asian/Pacific Islander)</th>\n",
       "      <th>Race_White</th>\n",
       "      <th>Marital Status_Divorced</th>\n",
       "      <th>Marital Status_Married (including common law)</th>\n",
       "      <th>Marital Status_Separated</th>\n",
       "      <th>Marital Status_Single (never married)</th>\n",
       "      <th>Marital Status_Widowed</th>\n",
       "    </tr>\n",
       "  </thead>\n",
       "  <tbody>\n",
       "    <tr>\n",
       "      <th>0</th>\n",
       "      <td>43</td>\n",
       "      <td>2</td>\n",
       "      <td>3</td>\n",
       "      <td>5</td>\n",
       "      <td>2</td>\n",
       "      <td>1</td>\n",
       "      <td>40</td>\n",
       "      <td>1</td>\n",
       "      <td>1</td>\n",
       "      <td>19</td>\n",
       "      <td>...</td>\n",
       "      <td>1</td>\n",
       "      <td>1</td>\n",
       "      <td>0</td>\n",
       "      <td>1</td>\n",
       "      <td>0</td>\n",
       "      <td>0</td>\n",
       "      <td>1</td>\n",
       "      <td>0</td>\n",
       "      <td>0</td>\n",
       "      <td>0</td>\n",
       "    </tr>\n",
       "    <tr>\n",
       "      <th>1</th>\n",
       "      <td>47</td>\n",
       "      <td>2</td>\n",
       "      <td>2</td>\n",
       "      <td>3</td>\n",
       "      <td>2</td>\n",
       "      <td>1</td>\n",
       "      <td>45</td>\n",
       "      <td>1</td>\n",
       "      <td>1</td>\n",
       "      <td>25</td>\n",
       "      <td>...</td>\n",
       "      <td>2</td>\n",
       "      <td>1</td>\n",
       "      <td>0</td>\n",
       "      <td>1</td>\n",
       "      <td>0</td>\n",
       "      <td>0</td>\n",
       "      <td>1</td>\n",
       "      <td>0</td>\n",
       "      <td>0</td>\n",
       "      <td>0</td>\n",
       "    </tr>\n",
       "    <tr>\n",
       "      <th>2</th>\n",
       "      <td>67</td>\n",
       "      <td>2</td>\n",
       "      <td>1</td>\n",
       "      <td>2</td>\n",
       "      <td>3</td>\n",
       "      <td>1</td>\n",
       "      <td>25</td>\n",
       "      <td>1</td>\n",
       "      <td>1</td>\n",
       "      <td>4</td>\n",
       "      <td>...</td>\n",
       "      <td>2</td>\n",
       "      <td>0</td>\n",
       "      <td>0</td>\n",
       "      <td>0</td>\n",
       "      <td>1</td>\n",
       "      <td>0</td>\n",
       "      <td>1</td>\n",
       "      <td>0</td>\n",
       "      <td>0</td>\n",
       "      <td>0</td>\n",
       "    </tr>\n",
       "    <tr>\n",
       "      <th>3</th>\n",
       "      <td>46</td>\n",
       "      <td>1</td>\n",
       "      <td>1</td>\n",
       "      <td>1</td>\n",
       "      <td>2</td>\n",
       "      <td>1</td>\n",
       "      <td>19</td>\n",
       "      <td>1</td>\n",
       "      <td>1</td>\n",
       "      <td>26</td>\n",
       "      <td>...</td>\n",
       "      <td>2</td>\n",
       "      <td>0</td>\n",
       "      <td>0</td>\n",
       "      <td>0</td>\n",
       "      <td>1</td>\n",
       "      <td>1</td>\n",
       "      <td>0</td>\n",
       "      <td>0</td>\n",
       "      <td>0</td>\n",
       "      <td>0</td>\n",
       "    </tr>\n",
       "    <tr>\n",
       "      <th>4</th>\n",
       "      <td>63</td>\n",
       "      <td>2</td>\n",
       "      <td>2</td>\n",
       "      <td>3</td>\n",
       "      <td>2</td>\n",
       "      <td>1</td>\n",
       "      <td>35</td>\n",
       "      <td>1</td>\n",
       "      <td>1</td>\n",
       "      <td>21</td>\n",
       "      <td>...</td>\n",
       "      <td>3</td>\n",
       "      <td>0</td>\n",
       "      <td>0</td>\n",
       "      <td>0</td>\n",
       "      <td>1</td>\n",
       "      <td>0</td>\n",
       "      <td>1</td>\n",
       "      <td>0</td>\n",
       "      <td>0</td>\n",
       "      <td>0</td>\n",
       "    </tr>\n",
       "  </tbody>\n",
       "</table>\n",
       "<p>5 rows × 21 columns</p>\n",
       "</div>"
      ],
      "text/plain": [
       "   Age  T Stage  N Stage  6th Stage  Grade  A Stage  Tumor Size  \\\n",
       "0   43        2        3          5      2        1          40   \n",
       "1   47        2        2          3      2        1          45   \n",
       "2   67        2        1          2      3        1          25   \n",
       "3   46        1        1          1      2        1          19   \n",
       "4   63        2        2          3      2        1          35   \n",
       "\n",
       "   Estrogen Status  Progesterone Status  Regional Node Examined  ...  \\\n",
       "0                1                    1                      19  ...   \n",
       "1                1                    1                      25  ...   \n",
       "2                1                    1                       4  ...   \n",
       "3                1                    1                      26  ...   \n",
       "4                1                    1                      21  ...   \n",
       "\n",
       "   Survival Months  Status  Race_Black  \\\n",
       "0                1       1           0   \n",
       "1                2       1           0   \n",
       "2                2       0           0   \n",
       "3                2       0           0   \n",
       "4                3       0           0   \n",
       "\n",
       "   Race_Other (American Indian/AK Native, Asian/Pacific Islander)  Race_White  \\\n",
       "0                                                  1                        0   \n",
       "1                                                  1                        0   \n",
       "2                                                  0                        1   \n",
       "3                                                  0                        1   \n",
       "4                                                  0                        1   \n",
       "\n",
       "   Marital Status_Divorced  Marital Status_Married (including common law)  \\\n",
       "0                        0                                              1   \n",
       "1                        0                                              1   \n",
       "2                        0                                              1   \n",
       "3                        1                                              0   \n",
       "4                        0                                              1   \n",
       "\n",
       "   Marital Status_Separated  Marital Status_Single (never married)  \\\n",
       "0                         0                                      0   \n",
       "1                         0                                      0   \n",
       "2                         0                                      0   \n",
       "3                         0                                      0   \n",
       "4                         0                                      0   \n",
       "\n",
       "   Marital Status_Widowed  \n",
       "0                       0  \n",
       "1                       0  \n",
       "2                       0  \n",
       "3                       0  \n",
       "4                       0  \n",
       "\n",
       "[5 rows x 21 columns]"
      ]
     },
     "execution_count": 8,
     "metadata": {},
     "output_type": "execute_result"
    }
   ],
   "source": [
    "data_encoded_final = pd.get_dummies(data_ordinal_binary_encoded)\n",
    "\n",
    "data_encoded_final.head()"
   ]
  },
  {
   "cell_type": "code",
   "execution_count": 9,
   "id": "165dd15c",
   "metadata": {},
   "outputs": [
    {
     "data": {
      "text/plain": [
       "Age                                                               int64\n",
       "T Stage                                                           int64\n",
       "N Stage                                                           int64\n",
       "6th Stage                                                         int64\n",
       "Grade                                                             int64\n",
       "A Stage                                                           int64\n",
       "Tumor Size                                                        int64\n",
       "Estrogen Status                                                   int64\n",
       "Progesterone Status                                               int64\n",
       "Regional Node Examined                                            int64\n",
       "Reginol Node Positive                                             int64\n",
       "Survival Months                                                   int64\n",
       "Status                                                            int64\n",
       "Race_Black                                                        uint8\n",
       "Race_Other (American Indian/AK Native, Asian/Pacific Islander)    uint8\n",
       "Race_White                                                        uint8\n",
       "Marital Status_Divorced                                           uint8\n",
       "Marital Status_Married (including common law)                     uint8\n",
       "Marital Status_Separated                                          uint8\n",
       "Marital Status_Single (never married)                             uint8\n",
       "Marital Status_Widowed                                            uint8\n",
       "dtype: object"
      ]
     },
     "execution_count": 9,
     "metadata": {},
     "output_type": "execute_result"
    }
   ],
   "source": [
    "# data types of final-encoded-data\n",
    "data_encoded_final.dtypes"
   ]
  },
  {
   "cell_type": "markdown",
   "id": "35b6d47f",
   "metadata": {},
   "source": [
    "# Splitting data into input and output"
   ]
  },
  {
   "cell_type": "code",
   "execution_count": 10,
   "id": "abb44c16",
   "metadata": {},
   "outputs": [],
   "source": [
    "data_input = data_encoded_final.drop(columns=['Status'])\n",
    "data_output = data_encoded_final['Status']"
   ]
  },
  {
   "cell_type": "markdown",
   "id": "bc483fd5",
   "metadata": {},
   "source": [
    "# Splitting data into train, validation, and test"
   ]
  },
  {
   "cell_type": "code",
   "execution_count": 11,
   "id": "c30d81af",
   "metadata": {},
   "outputs": [
    {
     "name": "stdout",
     "output_type": "stream",
     "text": [
      "X_train: (1971, 20)\n",
      "y_train: (1971,)\n",
      "-------------------------\n",
      "X_val: (845, 20)\n",
      "y_val: (845,)\n",
      "-------------------------\n",
      "X_test: (1208, 20)\n",
      "y_test: (1208,)\n"
     ]
    }
   ],
   "source": [
    "from sklearn.model_selection import train_test_split\n",
    "\n",
    "X, X_test, y, y_test = train_test_split(\n",
    "    data_input, data_output, test_size=0.30, random_state=0\n",
    ")\n",
    "\n",
    "X_train, X_val, y_train, y_val = train_test_split(\n",
    "    X, y, test_size=0.30, random_state=0\n",
    ")\n",
    "\n",
    "print('X_train:', X_train.shape)\n",
    "print('y_train:', y_train.shape)\n",
    "print('-------------------------')\n",
    "print('X_val:', X_val.shape)\n",
    "print('y_val:', y_val.shape)\n",
    "print('-------------------------')\n",
    "print('X_test:', X_test.shape)\n",
    "print('y_test:', y_test.shape)"
   ]
  },
  {
   "cell_type": "markdown",
   "id": "f6c7e094",
   "metadata": {},
   "source": [
    "# Solving the problem of imbalanced data\n",
    "Displaying output value counts for our training set"
   ]
  },
  {
   "cell_type": "code",
   "execution_count": 12,
   "id": "fb9642ca",
   "metadata": {},
   "outputs": [
    {
     "data": {
      "text/plain": [
       "1    1662\n",
       "0     309\n",
       "Name: Status, dtype: int64"
      ]
     },
     "execution_count": 12,
     "metadata": {},
     "output_type": "execute_result"
    }
   ],
   "source": [
    "y_train.value_counts()"
   ]
  },
  {
   "cell_type": "markdown",
   "id": "0ea0be1b",
   "metadata": {},
   "source": [
    "We use `imbalanced-learn` package to make our training set balanced. We use two methods:\n",
    "1. Undersampling: Removing samples from the majority class (class 0)\n",
    "2. Oversampling: Repeating samples from the minority class\n"
   ]
  },
  {
   "cell_type": "markdown",
   "id": "514d9dd7",
   "metadata": {},
   "source": [
    "**Undersamping:**\n",
    "\n",
    "Using undersampling to reduce the samples of class 0 so that Class 1 : Class 0 = 0.5"
   ]
  },
  {
   "cell_type": "code",
   "execution_count": 13,
   "id": "b8d3e0b6",
   "metadata": {},
   "outputs": [
    {
     "data": {
      "text/plain": [
       "1    618\n",
       "0    309\n",
       "Name: Status, dtype: int64"
      ]
     },
     "execution_count": 13,
     "metadata": {},
     "output_type": "execute_result"
    }
   ],
   "source": [
    "from imblearn.under_sampling import RandomUnderSampler\n",
    "\n",
    "rus = RandomUnderSampler(sampling_strategy=0.5, random_state=0)\n",
    "\n",
    "X_train_rus, y_train_rus = rus.fit_resample(X_train, y_train)\n",
    "\n",
    "y_train_rus.value_counts()"
   ]
  },
  {
   "cell_type": "markdown",
   "id": "f4e80ba8",
   "metadata": {},
   "source": [
    "**Oversamping:**\n",
    "\n",
    "Using oversampling to increase the samples of class 1 so that Class 1 : Class 0 = 1"
   ]
  },
  {
   "cell_type": "code",
   "execution_count": 14,
   "id": "ca0ec212",
   "metadata": {},
   "outputs": [
    {
     "data": {
      "text/plain": [
       "0    618\n",
       "1    618\n",
       "Name: Status, dtype: int64"
      ]
     },
     "execution_count": 14,
     "metadata": {},
     "output_type": "execute_result"
    }
   ],
   "source": [
    "from imblearn.over_sampling import RandomOverSampler\n",
    "\n",
    "ros = RandomOverSampler(sampling_strategy=1.0, random_state=0)\n",
    "\n",
    "X_train_balanced, y_train_balanced = ros.fit_resample(X_train_rus, y_train_rus)\n",
    "\n",
    "# Uncomment the following line if you want to see the difference when the data is not balanced\n",
    "#X_train_balanced, y_train_balanced = X_train, y_train\n",
    "\n",
    "y_train_balanced.value_counts()"
   ]
  },
  {
   "cell_type": "markdown",
   "id": "50973e83",
   "metadata": {},
   "source": [
    "Now we use `(X_train_balanced, y_train_balanced)` to train our model"
   ]
  },
  {
   "cell_type": "code",
   "execution_count": null,
   "id": "c3b334ed",
   "metadata": {},
   "outputs": [],
   "source": []
  }
 ],
 "metadata": {
  "kernelspec": {
   "display_name": "Python 3 (ipykernel)",
   "language": "python",
   "name": "python3"
  },
  "language_info": {
   "codemirror_mode": {
    "name": "ipython",
    "version": 3
   },
   "file_extension": ".py",
   "mimetype": "text/x-python",
   "name": "python",
   "nbconvert_exporter": "python",
   "pygments_lexer": "ipython3",
   "version": "3.9.0"
  }
 },
 "nbformat": 4,
 "nbformat_minor": 5
}
